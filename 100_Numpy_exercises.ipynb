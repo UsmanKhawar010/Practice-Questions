{
  "cells": [
    {
      "attachments": {},
      "cell_type": "markdown",
      "id": "6293cc50",
      "metadata": {
        "id": "6293cc50"
      },
      "source": [
        "# 100 numpy exercises\n",
        "\n",
        "This is a collection of exercises that have been collected in the numpy mailing list, on stack overflow\n",
        "and in the numpy documentation. The goal of this collection is to offer a quick reference for both old\n",
        "and new users but also to provide a set of exercises for those who teach.\n",
        "\n",
        "\n",
        "If you find an error or think you've a better way to solve some of them, feel\n",
        "free to open an issue at <https://github.com/rougier/numpy-100>."
      ]
    },
    {
      "attachments": {},
      "cell_type": "markdown",
      "id": "a167c052",
      "metadata": {
        "id": "a167c052"
      },
      "source": [
        "File automatically generated. See the documentation to update questions/answers/hints programmatically."
      ]
    },
    {
      "attachments": {},
      "cell_type": "markdown",
      "id": "57fc0ee5",
      "metadata": {
        "id": "57fc0ee5"
      },
      "source": [
        "Run the `initialize.py` module, then for each question you can query the\n",
        "answer or an hint with `hint(n)` or `answer(n)` for `n` question number."
      ]
    },
    {
      "cell_type": "code",
      "execution_count": null,
      "id": "3d46fba2",
      "metadata": {
        "id": "3d46fba2",
        "outputId": "a4c098ea-84c9-4313-e841-6516c7ee35fc"
      },
      "outputs": [
        {
          "ename": "ModuleNotFoundError",
          "evalue": "No module named 'mdutils'",
          "output_type": "error",
          "traceback": [
            "\u001b[1;31m---------------------------------------------------------------------------\u001b[0m",
            "\u001b[1;31mModuleNotFoundError\u001b[0m                       Traceback (most recent call last)",
            "\u001b[1;32m~\\Desktop\\numpy-100-master\\initialise.py\u001b[0m in \u001b[0;36m<module>\u001b[1;34m\u001b[0m\n\u001b[0;32m      1\u001b[0m \u001b[1;32mimport\u001b[0m \u001b[0mnumpy\u001b[0m \u001b[1;32mas\u001b[0m \u001b[0mnp\u001b[0m\u001b[1;33m\u001b[0m\u001b[1;33m\u001b[0m\u001b[0m\n\u001b[0;32m      2\u001b[0m \u001b[1;33m\u001b[0m\u001b[0m\n\u001b[1;32m----> 3\u001b[1;33m \u001b[1;32mimport\u001b[0m \u001b[0mgenerators\u001b[0m \u001b[1;32mas\u001b[0m \u001b[0mge\u001b[0m\u001b[1;33m\u001b[0m\u001b[1;33m\u001b[0m\u001b[0m\n\u001b[0m\u001b[0;32m      4\u001b[0m \u001b[1;33m\u001b[0m\u001b[0m\n\u001b[0;32m      5\u001b[0m \u001b[1;33m\u001b[0m\u001b[0m\n",
            "\u001b[1;32m~\\Desktop\\numpy-100-master\\generators.py\u001b[0m in \u001b[0;36m<module>\u001b[1;34m\u001b[0m\n\u001b[0;32m      1\u001b[0m \u001b[1;32mimport\u001b[0m \u001b[0mos\u001b[0m\u001b[1;33m\u001b[0m\u001b[1;33m\u001b[0m\u001b[0m\n\u001b[0;32m      2\u001b[0m \u001b[1;32mimport\u001b[0m \u001b[0mnbformat\u001b[0m \u001b[1;32mas\u001b[0m \u001b[0mnbf\u001b[0m\u001b[1;33m\u001b[0m\u001b[1;33m\u001b[0m\u001b[0m\n\u001b[1;32m----> 3\u001b[1;33m \u001b[1;32mimport\u001b[0m \u001b[0mmdutils\u001b[0m\u001b[1;33m\u001b[0m\u001b[1;33m\u001b[0m\u001b[0m\n\u001b[0m\u001b[0;32m      4\u001b[0m \u001b[1;33m\u001b[0m\u001b[0m\n\u001b[0;32m      5\u001b[0m \u001b[1;33m\u001b[0m\u001b[0m\n",
            "\u001b[1;31mModuleNotFoundError\u001b[0m: No module named 'mdutils'"
          ]
        }
      ],
      "source": [
        "%run initialise.py"
      ]
    },
    {
      "attachments": {},
      "cell_type": "markdown",
      "id": "3c1222ff",
      "metadata": {
        "id": "3c1222ff"
      },
      "source": [
        "#### 1. Import the numpy package under the name `np` (★☆☆)"
      ]
    },
    {
      "cell_type": "code",
      "execution_count": null,
      "id": "f52e6a0b",
      "metadata": {
        "id": "f52e6a0b"
      },
      "outputs": [],
      "source": [
        "import numpy as np"
      ]
    },
    {
      "attachments": {},
      "cell_type": "markdown",
      "id": "9d9f4753",
      "metadata": {
        "id": "9d9f4753"
      },
      "source": [
        "#### 2. Print the numpy version and the configuration (★☆☆)"
      ]
    },
    {
      "cell_type": "code",
      "execution_count": null,
      "id": "b7fa5fa1",
      "metadata": {
        "id": "b7fa5fa1",
        "outputId": "c0134c0c-368e-4bc0-b255-6fd715388888"
      },
      "outputs": [
        {
          "name": "stdout",
          "output_type": "stream",
          "text": [
            "NumPy Version :  1.21.5\n",
            "blas_mkl_info:\n",
            "    libraries = ['mkl_rt']\n",
            "    library_dirs = ['C:/Users/Abdul/anaconda3\\\\Library\\\\lib']\n",
            "    define_macros = [('SCIPY_MKL_H', None), ('HAVE_CBLAS', None)]\n",
            "    include_dirs = ['C:/Users/Abdul/anaconda3\\\\Library\\\\include']\n",
            "blas_opt_info:\n",
            "    libraries = ['mkl_rt']\n",
            "    library_dirs = ['C:/Users/Abdul/anaconda3\\\\Library\\\\lib']\n",
            "    define_macros = [('SCIPY_MKL_H', None), ('HAVE_CBLAS', None)]\n",
            "    include_dirs = ['C:/Users/Abdul/anaconda3\\\\Library\\\\include']\n",
            "lapack_mkl_info:\n",
            "    libraries = ['mkl_rt']\n",
            "    library_dirs = ['C:/Users/Abdul/anaconda3\\\\Library\\\\lib']\n",
            "    define_macros = [('SCIPY_MKL_H', None), ('HAVE_CBLAS', None)]\n",
            "    include_dirs = ['C:/Users/Abdul/anaconda3\\\\Library\\\\include']\n",
            "lapack_opt_info:\n",
            "    libraries = ['mkl_rt']\n",
            "    library_dirs = ['C:/Users/Abdul/anaconda3\\\\Library\\\\lib']\n",
            "    define_macros = [('SCIPY_MKL_H', None), ('HAVE_CBLAS', None)]\n",
            "    include_dirs = ['C:/Users/Abdul/anaconda3\\\\Library\\\\include']\n",
            "Supported SIMD extensions in this NumPy install:\n",
            "    baseline = SSE,SSE2,SSE3\n",
            "    found = SSSE3,SSE41,POPCNT,SSE42,AVX,F16C,FMA3,AVX2\n",
            "    not found = AVX512F,AVX512CD,AVX512_SKX,AVX512_CLX,AVX512_CNL\n",
            "None\n"
          ]
        }
      ],
      "source": [
        "print(f\"Numpy version : {np.__version__}\")\n",
        "print(f\"Numpy configuration : {np.show_config()}\")"
      ]
    },
    {
      "attachments": {},
      "cell_type": "markdown",
      "id": "3e4c23c6",
      "metadata": {
        "id": "3e4c23c6"
      },
      "source": [
        "#### 3. Create a null vector of size 10 (★☆☆)"
      ]
    },
    {
      "cell_type": "code",
      "execution_count": null,
      "id": "083c5c46",
      "metadata": {
        "id": "083c5c46",
        "outputId": "d6641cf4-52e1-4ab9-a288-125d8b7437d9"
      },
      "outputs": [
        {
          "name": "stdout",
          "output_type": "stream",
          "text": [
            "[0. 0. 0. 0. 0. 0. 0. 0. 0. 0.]\n"
          ]
        }
      ],
      "source": [
        "nullv = np.zeros(10)\n",
        "print(nullv)"
      ]
    },
    {
      "attachments": {},
      "cell_type": "markdown",
      "id": "c38bbe82",
      "metadata": {
        "id": "c38bbe82"
      },
      "source": [
        "#### 4. How to find the memory size of any array (★☆☆)"
      ]
    },
    {
      "cell_type": "code",
      "execution_count": null,
      "id": "02b04021",
      "metadata": {
        "id": "02b04021",
        "outputId": "eaec42e9-3d4a-442c-e9c0-49061553cac8"
      },
      "outputs": [
        {
          "data": {
            "text/plain": [
              "7"
            ]
          },
          "execution_count": 7,
          "metadata": {},
          "output_type": "execute_result"
        }
      ],
      "source": []
    },
    {
      "attachments": {},
      "cell_type": "markdown",
      "id": "67f893d4",
      "metadata": {
        "id": "67f893d4"
      },
      "source": [
        "#### 5. How to get the documentation of the numpy add function from the command line? (★☆☆)"
      ]
    },
    {
      "cell_type": "code",
      "execution_count": null,
      "id": "40e6b70d",
      "metadata": {
        "id": "40e6b70d"
      },
      "outputs": [],
      "source": []
    },
    {
      "attachments": {},
      "cell_type": "markdown",
      "id": "e0c739c6",
      "metadata": {
        "id": "e0c739c6"
      },
      "source": [
        "#### 6. Create a null vector of size 10 but the fifth value which is 1 (★☆☆)"
      ]
    },
    {
      "cell_type": "code",
      "execution_count": null,
      "id": "bcceacf7",
      "metadata": {
        "id": "bcceacf7"
      },
      "outputs": [],
      "source": [
        "nullvector = np.zeros(10)\n",
        "nullvector[4] = 1\n",
        "nullvector"
      ]
    },
    {
      "attachments": {},
      "cell_type": "markdown",
      "id": "fbebedab",
      "metadata": {
        "id": "fbebedab"
      },
      "source": [
        "#### 7. Create a vector with values ranging from 10 to 49 (★☆☆)"
      ]
    },
    {
      "cell_type": "code",
      "execution_count": null,
      "id": "3d117d54",
      "metadata": {
        "id": "3d117d54"
      },
      "outputs": [],
      "source": [
        "vector = np.arange(10,49)\n",
        "vector"
      ]
    },
    {
      "attachments": {},
      "cell_type": "markdown",
      "id": "ad0bff02",
      "metadata": {
        "id": "ad0bff02"
      },
      "source": [
        "#### 8. Reverse a vector (first element becomes last) (★☆☆)"
      ]
    },
    {
      "cell_type": "code",
      "execution_count": null,
      "id": "22d23470",
      "metadata": {
        "id": "22d23470"
      },
      "outputs": [],
      "source": [
        "vector = np.arange(10,20)\n",
        "print(vector)\n",
        "reverse_vector = vector[::-1]\n",
        "reverse_vector"
      ]
    },
    {
      "attachments": {},
      "cell_type": "markdown",
      "id": "9f59d7e1",
      "metadata": {
        "id": "9f59d7e1"
      },
      "source": [
        "#### 9. Create a 3x3 matrix with values ranging from 0 to 8 (★☆☆)"
      ]
    },
    {
      "cell_type": "code",
      "execution_count": null,
      "id": "7449e82d",
      "metadata": {
        "id": "7449e82d"
      },
      "outputs": [],
      "source": [
        "array = np.arange(0,9)\n",
        "matrix = array.reshape(3,3)\n",
        "matrix"
      ]
    },
    {
      "attachments": {},
      "cell_type": "markdown",
      "id": "f374c4cf",
      "metadata": {
        "id": "f374c4cf"
      },
      "source": [
        "#### 10. Find indices of non-zero elements from [1,2,0,0,4,0] (★☆☆)"
      ]
    },
    {
      "cell_type": "code",
      "execution_count": null,
      "id": "1a84bed8",
      "metadata": {
        "id": "1a84bed8"
      },
      "outputs": [],
      "source": [
        "array = np.array([1,2,0,0,4,0])\n",
        "non_zero_indices = np.nonzero(array)\n",
        "non_zero_elements = array[non_zero_indices]\n",
        "non_zero_elements"
      ]
    },
    {
      "attachments": {},
      "cell_type": "markdown",
      "id": "9c4707f5",
      "metadata": {
        "id": "9c4707f5"
      },
      "source": [
        "#### 11. Create a 3x3 identity matrix (★☆☆)"
      ]
    },
    {
      "cell_type": "code",
      "execution_count": null,
      "id": "29dc1fd3",
      "metadata": {
        "id": "29dc1fd3"
      },
      "outputs": [],
      "source": [
        "matrix = np.eye(3)\n",
        "matrix"
      ]
    },
    {
      "attachments": {},
      "cell_type": "markdown",
      "id": "3bac294a",
      "metadata": {
        "id": "3bac294a"
      },
      "source": [
        "#### 12. Create a 3x3x3 array with random values (★☆☆)"
      ]
    },
    {
      "cell_type": "code",
      "execution_count": null,
      "id": "eadfae67",
      "metadata": {
        "id": "eadfae67"
      },
      "outputs": [],
      "source": [
        "matrix = np.random.random((3,3))\n",
        "matrix"
      ]
    },
    {
      "attachments": {},
      "cell_type": "markdown",
      "id": "466c2989",
      "metadata": {
        "id": "466c2989"
      },
      "source": [
        "#### 13. Create a 10x10 array with random values and find the minimum and maximum values (★☆☆)"
      ]
    },
    {
      "cell_type": "code",
      "execution_count": null,
      "id": "9a74dbfc",
      "metadata": {
        "id": "9a74dbfc"
      },
      "outputs": [],
      "source": [
        "array = np.random.random((10,10))\n",
        "min = np.min(array)\n",
        "max = np.max(array)\n",
        "print(min)\n",
        "print(\"\\n\")\n",
        "print(max)"
      ]
    },
    {
      "attachments": {},
      "cell_type": "markdown",
      "id": "53a8edb2",
      "metadata": {
        "id": "53a8edb2"
      },
      "source": [
        "#### 14. Create a random vector of size 30 and find the mean value (★☆☆)"
      ]
    },
    {
      "cell_type": "code",
      "execution_count": null,
      "id": "6691530b",
      "metadata": {
        "id": "6691530b"
      },
      "outputs": [],
      "source": [
        "vector = np.random.random(30)\n",
        "print(vector)\n",
        "mean = vector.mean()\n",
        "print(\"Mean is : \",mean)"
      ]
    },
    {
      "attachments": {},
      "cell_type": "markdown",
      "id": "cbaad31c",
      "metadata": {
        "id": "cbaad31c"
      },
      "source": [
        "#### 15. Create a 2d array with 1 on the border and 0 inside (★☆☆)"
      ]
    },
    {
      "cell_type": "code",
      "execution_count": null,
      "id": "ad8308e3",
      "metadata": {
        "id": "ad8308e3"
      },
      "outputs": [],
      "source": []
    },
    {
      "attachments": {},
      "cell_type": "markdown",
      "id": "c5ecc267",
      "metadata": {
        "id": "c5ecc267"
      },
      "source": [
        "#### 16. How to add a border (filled with 0's) around an existing array? (★☆☆)"
      ]
    },
    {
      "cell_type": "code",
      "execution_count": null,
      "id": "9d5c78c4",
      "metadata": {
        "id": "9d5c78c4"
      },
      "outputs": [],
      "source": [
        "array = np.array([[1, 2, 3],[4, 5, 6],[7, 8, 9]])\n",
        "\n",
        "border_width = 1\n",
        "\n",
        "padded_array = np.pad(array, pad_width=border_width, mode='constant', constant_values=0)\n",
        "\n",
        "print(\"Original Array:\")\n",
        "print(array)\n",
        "print(\"\\nPadded Array:\")\n",
        "print(padded_array)\n"
      ]
    },
    {
      "attachments": {},
      "cell_type": "markdown",
      "id": "ef909b72",
      "metadata": {
        "id": "ef909b72"
      },
      "source": [
        "#### 17. What is the result of the following expression? (★☆☆)\n",
        "```python\n",
        "0 * np.nan\n",
        "np.nan == np.nan\n",
        "np.inf > np.nan\n",
        "np.nan - np.nan\n",
        "np.nan in set([np.nan])\n",
        "0.3 == 3 * 0.1\n",
        "```"
      ]
    },
    {
      "cell_type": "code",
      "execution_count": null,
      "id": "3b4985f2",
      "metadata": {
        "id": "3b4985f2"
      },
      "outputs": [],
      "source": [
        "False"
      ]
    },
    {
      "attachments": {},
      "cell_type": "markdown",
      "id": "502738ac",
      "metadata": {
        "id": "502738ac"
      },
      "source": [
        "#### 18. Create a 5x5 matrix with values 1,2,3,4 just below the diagonal (★☆☆)"
      ]
    },
    {
      "cell_type": "code",
      "execution_count": null,
      "id": "faed6e2b",
      "metadata": {
        "id": "faed6e2b"
      },
      "outputs": [],
      "source": [
        "values = [1, 2, 3, 4]\n",
        "matrix = np.diag(values, k=-1)\n",
        "\n",
        "print(matrix)\n"
      ]
    },
    {
      "attachments": {},
      "cell_type": "markdown",
      "id": "a65da660",
      "metadata": {
        "id": "a65da660"
      },
      "source": [
        "#### 19. Create a 8x8 matrix and fill it with a checkerboard pattern (★☆☆)"
      ]
    },
    {
      "cell_type": "code",
      "execution_count": null,
      "id": "ed150400",
      "metadata": {
        "id": "ed150400"
      },
      "outputs": [],
      "source": []
    },
    {
      "attachments": {},
      "cell_type": "markdown",
      "id": "9f7f9c49",
      "metadata": {
        "id": "9f7f9c49"
      },
      "source": [
        "#### 20. Consider a (6,7,8) shape array, what is the index (x,y,z) of the 100th element? (★☆☆)"
      ]
    },
    {
      "cell_type": "code",
      "execution_count": null,
      "id": "3782b5a9",
      "metadata": {
        "id": "3782b5a9"
      },
      "outputs": [],
      "source": []
    },
    {
      "attachments": {},
      "cell_type": "markdown",
      "id": "66bfda35",
      "metadata": {
        "id": "66bfda35"
      },
      "source": [
        "#### 21. Create a checkerboard 8x8 matrix using the tile function (★☆☆)"
      ]
    },
    {
      "cell_type": "code",
      "execution_count": null,
      "id": "4c07477c",
      "metadata": {
        "id": "4c07477c"
      },
      "outputs": [],
      "source": []
    },
    {
      "attachments": {},
      "cell_type": "markdown",
      "id": "d5bcfc08",
      "metadata": {
        "id": "d5bcfc08"
      },
      "source": [
        "#### 22. Normalize a 5x5 random matrix (★☆☆)"
      ]
    },
    {
      "cell_type": "code",
      "execution_count": null,
      "id": "cea6c993",
      "metadata": {
        "id": "cea6c993"
      },
      "outputs": [],
      "source": [
        "matrix = np.random.random((5,5))\n",
        "normalized_matrix = (matrix - np.mean(matrix))/np.std(matrix)\n",
        "print(matrix)\n",
        "print(normalized_matrix)"
      ]
    },
    {
      "attachments": {},
      "cell_type": "markdown",
      "id": "f9a0911e",
      "metadata": {
        "id": "f9a0911e"
      },
      "source": [
        "#### 23. Create a custom dtype that describes a color as four unsigned bytes (RGBA) (★☆☆)"
      ]
    },
    {
      "cell_type": "code",
      "execution_count": null,
      "id": "d165044b",
      "metadata": {
        "id": "d165044b"
      },
      "outputs": [],
      "source": []
    },
    {
      "attachments": {},
      "cell_type": "markdown",
      "id": "654805b1",
      "metadata": {
        "id": "654805b1"
      },
      "source": [
        "#### 24. Multiply a 5x3 matrix by a 3x2 matrix (real matrix product) (★☆☆)"
      ]
    },
    {
      "cell_type": "code",
      "execution_count": null,
      "id": "6a42619f",
      "metadata": {
        "id": "6a42619f"
      },
      "outputs": [],
      "source": [
        "\n",
        "matrix1 = np.array([[1, 2, 3],\n",
        "                    [4, 5, 6],\n",
        "                    [7, 8, 9],\n",
        "                    [10, 11, 12],\n",
        "                    [13, 14, 15]])\n",
        "\n",
        "matrix2 = np.array([[1, 2],\n",
        "                    [3, 4],\n",
        "                    [5, 6]])\n",
        "\n",
        "\n",
        "result = np.dot(matrix1, matrix2)\n",
        "\n",
        "print(result)"
      ]
    },
    {
      "attachments": {},
      "cell_type": "markdown",
      "id": "994c25df",
      "metadata": {
        "id": "994c25df"
      },
      "source": [
        "#### 25. Given a 1D array, negate all elements which are between 3 and 8, in place. (★☆☆)"
      ]
    },
    {
      "cell_type": "code",
      "execution_count": null,
      "id": "e4b39c03",
      "metadata": {
        "id": "e4b39c03"
      },
      "outputs": [],
      "source": []
    },
    {
      "attachments": {},
      "cell_type": "markdown",
      "id": "b7d15d1a",
      "metadata": {
        "id": "b7d15d1a"
      },
      "source": [
        "#### 26. What is the output of the following script? (★☆☆)\n",
        "```python\n",
        "# Author: Jake VanderPlas\n",
        "\n",
        "print(sum(range(5),-1))\n",
        "from numpy import *\n",
        "print(sum(range(5),-1))\n",
        "```"
      ]
    },
    {
      "cell_type": "code",
      "execution_count": null,
      "id": "4c95bc3f",
      "metadata": {
        "id": "4c95bc3f"
      },
      "outputs": [],
      "source": [
        "10"
      ]
    },
    {
      "attachments": {},
      "cell_type": "markdown",
      "id": "a34f0d08",
      "metadata": {
        "id": "a34f0d08"
      },
      "source": [
        "#### 27. Consider an integer vector Z, which of these expressions are legal? (★☆☆)\n",
        "```python\n",
        "Z**Z\n",
        "2 << Z >> 2\n",
        "Z <- Z\n",
        "1j*Z\n",
        "Z/1/1\n",
        "Z<Z>Z\n",
        "```"
      ]
    },
    {
      "cell_type": "code",
      "execution_count": null,
      "id": "564658fc",
      "metadata": {
        "id": "564658fc"
      },
      "outputs": [],
      "source": []
    },
    {
      "attachments": {},
      "cell_type": "markdown",
      "id": "c34e94bf",
      "metadata": {
        "id": "c34e94bf"
      },
      "source": [
        "#### 28. What are the result of the following expressions? (★☆☆)\n",
        "```python\n",
        "np.array(0) / np.array(0)\n",
        "np.array(0) // np.array(0)\n",
        "np.array([np.nan]).astype(int).astype(float)\n",
        "```"
      ]
    },
    {
      "cell_type": "code",
      "execution_count": null,
      "id": "56663562",
      "metadata": {
        "id": "56663562"
      },
      "outputs": [],
      "source": [
        "Nan output was shown "
      ]
    },
    {
      "attachments": {},
      "cell_type": "markdown",
      "id": "546f5e7b",
      "metadata": {
        "id": "546f5e7b"
      },
      "source": [
        "#### 29. How to round away from zero a float array ? (★☆☆)"
      ]
    },
    {
      "cell_type": "code",
      "execution_count": null,
      "id": "f725a6d2",
      "metadata": {
        "id": "f725a6d2"
      },
      "outputs": [],
      "source": [
        "float_array = np.array([-3.2, 4.5, -1.7, 2.9, -6.8])\n",
        "rounded_up_array = np.ceil(float_array)\n",
        "rounded_down_array = np.floor(float_array)\n",
        "\n",
        "print(\"original array:\", float_array)\n",
        "print(\"Rounded Up Array:\", rounded_up_array)\n",
        "print(\"Rounded Down Array:\", rounded_down_array)\n"
      ]
    },
    {
      "attachments": {},
      "cell_type": "markdown",
      "id": "eadca856",
      "metadata": {
        "id": "eadca856"
      },
      "source": [
        "#### 30. How to find common values between two arrays? (★☆☆)"
      ]
    },
    {
      "cell_type": "code",
      "execution_count": null,
      "id": "e0270b5b",
      "metadata": {
        "id": "e0270b5b"
      },
      "outputs": [],
      "source": [
        "\n",
        "array1 = np.array([1, 2, 3, 4, 5])\n",
        "array2 = np.array([3, 4, 5, 6, 7])\n",
        "\n",
        "common_values = np.intersect1d(array1, array2)\n",
        "\n",
        "print(\"Array 1:\", array1)\n",
        "print(\"Array 2:\", array2)\n",
        "print(\"Common Values:\", common_values)\n"
      ]
    },
    {
      "attachments": {},
      "cell_type": "markdown",
      "id": "ca16ca22",
      "metadata": {
        "id": "ca16ca22"
      },
      "source": [
        "#### 31. How to ignore all numpy warnings (not recommended)? (★☆☆)"
      ]
    },
    {
      "cell_type": "code",
      "execution_count": null,
      "id": "7d7208ef",
      "metadata": {
        "id": "7d7208ef"
      },
      "outputs": [],
      "source": [
        "np.seterr(all='ignore')\n",
        "np.seterr(all='warn')"
      ]
    },
    {
      "attachments": {},
      "cell_type": "markdown",
      "id": "c7871d0d",
      "metadata": {
        "id": "c7871d0d"
      },
      "source": [
        "#### 32. Is the following expressions true? (★☆☆)\n",
        "```python\n",
        "np.sqrt(-1) == np.emath.sqrt(-1)\n",
        "```"
      ]
    },
    {
      "cell_type": "code",
      "execution_count": null,
      "id": "acc3701a",
      "metadata": {
        "id": "acc3701a"
      },
      "outputs": [],
      "source": [
        "True"
      ]
    },
    {
      "attachments": {},
      "cell_type": "markdown",
      "id": "e0433e30",
      "metadata": {
        "id": "e0433e30"
      },
      "source": [
        "#### 33. How to get the dates of yesterday, today and tomorrow? (★☆☆)"
      ]
    },
    {
      "cell_type": "code",
      "execution_count": null,
      "id": "9c4d2152",
      "metadata": {
        "id": "9c4d2152"
      },
      "outputs": [],
      "source": [
        "from datetime import datetime, timedelta\n",
        "today = datetime.now()\n",
        "yesterday = datetime.now() -timedelta(1)\n",
        "print(\"yesterday\",yesterday)\n",
        "print(\"Tomorrow date \", datetime.now()+timedelta(1))"
      ]
    },
    {
      "attachments": {},
      "cell_type": "markdown",
      "id": "9f52a2ef",
      "metadata": {
        "id": "9f52a2ef"
      },
      "source": [
        "#### 34. How to get all the dates corresponding to the month of July 2016? (★★☆)"
      ]
    },
    {
      "cell_type": "code",
      "execution_count": null,
      "id": "d6c34dec",
      "metadata": {
        "id": "d6c34dec"
      },
      "outputs": [],
      "source": [
        "dates = np.arange('2016-07','2016-08',dtype= 'datetime64[D]')\n",
        "\n",
        "\n",
        "days = ['Monday','Tuesday','Wednesday','Thursday','Friday','Saturday','Sunday']\n",
        "\n",
        "\n",
        "for date in dates:\n",
        "  name = days[date.astype('datetime64[D]').astype(int) %7]\n",
        "  print(f\"{date} - {name}\")"
      ]
    },
    {
      "attachments": {},
      "cell_type": "markdown",
      "id": "4a64e059",
      "metadata": {
        "id": "4a64e059"
      },
      "source": [
        "#### 35. How to compute ((A+B)*(-A/2)) in place (without copy)? (★★☆)"
      ]
    },
    {
      "cell_type": "code",
      "execution_count": null,
      "id": "49267f60",
      "metadata": {
        "id": "49267f60"
      },
      "outputs": [],
      "source": [
        "\n",
        "a = np.array([10.0])\n",
        "b = np.array([10.0])\n",
        "\n",
        "np.add(a,b,out=a)\n",
        "# a+b = 20\n",
        "\n",
        "np.negative(np.divide(a,2,out=a),out=b)\n",
        "#b = -5\n",
        "\n",
        "np.multiply(a,b,out = b)\n",
        "\n",
        "\n"
      ]
    },
    {
      "attachments": {},
      "cell_type": "markdown",
      "id": "8a98c2a8",
      "metadata": {
        "id": "8a98c2a8"
      },
      "source": [
        "#### 36. Extract the integer part of a random array of positive numbers using 4 different methods (★★☆)"
      ]
    },
    {
      "cell_type": "code",
      "execution_count": null,
      "id": "368130b3",
      "metadata": {
        "id": "368130b3"
      },
      "outputs": [],
      "source": [
        "array = np.linspace(1,6,20) # generates an array of 20 radnom numbrs from 1 to 6\n",
        "\n",
        "\n",
        "#% module gives us the reminder, if we use %1, it would give us the fractional part. By subtracting this fro moriginal array\n",
        "# we can say that the remidner is the integer part.\n",
        "array_1  = array - (array % 1)\n",
        "\n",
        "#floor rounds the number to the neares integer towards negative infinity.\n",
        "\n",
        "array_2 = np.floor(array)\n",
        "\n",
        "\n",
        "#astype sets the type of any part given to it effectively truncuating the decimal part of array if int is given\n",
        "array_3 = array.astype(int)\n",
        "\n",
        "array_4 = np.trunc(array)\n",
        "array_4\n"
      ]
    },
    {
      "attachments": {},
      "cell_type": "markdown",
      "id": "5a2e3d85",
      "metadata": {
        "id": "5a2e3d85"
      },
      "source": [
        "#### 37. Create a 5x5 matrix with row values ranging from 0 to 4 (★★☆)"
      ]
    },
    {
      "cell_type": "code",
      "execution_count": null,
      "id": "1d974e8f",
      "metadata": {
        "id": "1d974e8f"
      },
      "outputs": [],
      "source": [
        "#This is one way of creating 5x5 matrix with values ranging from 0 to 4\n",
        "matrix = np.random.random((5,5))\n",
        "matrix = matrix.astype(int)\n",
        "matrix += np.arange(5)\n",
        "\n",
        "\n",
        "#this is second way to do the same process.\n",
        "\n",
        "matrix_1 = np.zeros((5,5))\n",
        "matrix_1 = matrix_1.astype(int)\n",
        "matrix_1 += np.arange(5)\n",
        "matrix_1\n",
        "\n"
      ]
    },
    {
      "attachments": {},
      "cell_type": "markdown",
      "id": "9720e2d5",
      "metadata": {
        "id": "9720e2d5"
      },
      "source": [
        "#### 38. Consider a generator function that generates 10 integers and use it to build an array (★☆☆)"
      ]
    },
    {
      "cell_type": "code",
      "execution_count": null,
      "id": "e5dd8fc9",
      "metadata": {
        "id": "e5dd8fc9"
      },
      "outputs": [],
      "source": [
        "def generate_integers():\n",
        "    for i in range(1, 11):\n",
        "        yield i\n",
        "\n",
        "\n",
        "arr = np.fromiter(generate_integers(), dtype=int)\n",
        "\n",
        "# Print the resulting array\n",
        "print(arr)\n"
      ]
    },
    {
      "attachments": {},
      "cell_type": "markdown",
      "id": "c6f2c912",
      "metadata": {
        "id": "c6f2c912"
      },
      "source": [
        "#### 39. Create a vector of size 10 with values ranging from 0 to 1, both excluded (★★☆)"
      ]
    },
    {
      "cell_type": "code",
      "execution_count": null,
      "id": "6aaa27d3",
      "metadata": {
        "id": "6aaa27d3"
      },
      "outputs": [],
      "source": [
        "vector = np.linspace(0,1,12,endpoint = True) # since the size of vector is required to be 10 and 2 numbers were excluded.\n",
        "\n",
        "vector = vector[1:-1] # this extracts values ranging from 1st index to second last index.\n",
        "vector"
      ]
    },
    {
      "attachments": {},
      "cell_type": "markdown",
      "id": "a36d6ee4",
      "metadata": {
        "id": "a36d6ee4"
      },
      "source": [
        "#### 40. Create a random vector of size 10 and sort it (★★☆)"
      ]
    },
    {
      "cell_type": "code",
      "execution_count": null,
      "id": "e589d216",
      "metadata": {
        "id": "e589d216"
      },
      "outputs": [],
      "source": [
        "vector = np.random.random(10)\n",
        "print(f\"Original vector : {vector}\",end=' ')\n",
        "vector.sort()\n",
        "print(f\"Sorted vector : {vector}\",end=' ')"
      ]
    },
    {
      "attachments": {},
      "cell_type": "markdown",
      "id": "0fb4ad68",
      "metadata": {
        "id": "0fb4ad68"
      },
      "source": [
        "#### 41. How to sum a small array faster than np.sum? (★★☆)"
      ]
    },
    {
      "cell_type": "code",
      "execution_count": null,
      "id": "a1ba05a0",
      "metadata": {
        "id": "a1ba05a0"
      },
      "outputs": [],
      "source": [
        "array = np.random.rand(10)\n",
        "print(f\"Array is : {array}\")\n",
        "print(end=' ')\n",
        "print(end=' ')\n",
        "# I have additionally added the time taken by the process via both techniques.\n",
        "sum_np_reduce = np.add.reduce(array)\n",
        "time_add_reduce = timeit.timeit(lambda: np.add.reduce(array),number = 100000)\n",
        "print(f\"Sum of array is using np.add.reduce() : {np.add.reduce(array):.3f}, time taken by it is {time_add_reduce:.3f} seconds\")\n",
        "\n",
        "sum_np_sum = np.sum(array)\n",
        "time_add_sum = timeit.timeit(lambda: np.sum(array), number = 100000)\n",
        "print(f\"Sum of array using np.sum() : {sum_np_sum:.3f}, time taken by it is {time_add_sum:.3f} seconds\")\n",
        "\n"
      ]
    },
    {
      "attachments": {},
      "cell_type": "markdown",
      "id": "024ac365",
      "metadata": {
        "id": "024ac365"
      },
      "source": [
        "#### 42. Consider two random array A and B, check if they are equal (★★☆)"
      ]
    },
    {
      "cell_type": "code",
      "execution_count": null,
      "id": "7db3846d",
      "metadata": {
        "id": "7db3846d"
      },
      "outputs": [],
      "source": [
        "array1 = np.array([1,2,3,4,5,6,7,8])\n",
        "array2 = np.array([1,2,3,4,5,6,7,8])\n",
        "np.allclose(array1,array2,rtol=0.0,atol=0.0,equal_nan = False)\n",
        "# relative and absolute tolerance are set to 0.\n",
        "\n",
        "np.array_equal(array1,array2, equal_nan=False)\n"
      ]
    },
    {
      "attachments": {},
      "cell_type": "markdown",
      "id": "c68d2401",
      "metadata": {
        "id": "c68d2401"
      },
      "source": [
        "#### 43. Make an array immutable (read-only) (★★☆)"
      ]
    },
    {
      "cell_type": "code",
      "execution_count": null,
      "id": "7828539d",
      "metadata": {
        "id": "7828539d"
      },
      "outputs": [],
      "source": [
        "im_array = np.array([1,2,3,4,5,6])\n",
        "print(\"Original flags : \",im_array.flags)\n",
        "\n",
        "\n",
        "im_array.flags['WRITEABLE'] = False\n",
        "print(\"Updated flags : \",im_array.flags)\n",
        "#after this I will get error in case of changing nay value of array."
      ]
    },
    {
      "attachments": {},
      "cell_type": "markdown",
      "id": "55df6280",
      "metadata": {
        "id": "55df6280"
      },
      "source": [
        "#### 44. Consider a random 10x2 matrix representing cartesian coordinates, convert them to polar coordinates (★★☆)"
      ]
    },
    {
      "cell_type": "code",
      "execution_count": null,
      "id": "f1c86ea0",
      "metadata": {
        "id": "f1c86ea0"
      },
      "outputs": [],
      "source": [
        "rmatrix = np.random.rand(10,2)\n",
        "x = rmatrix[:,0]\n",
        "y = rmatrix [:,1]\n",
        "\n",
        "r = np.sqrt(x**2 + y**2)\n",
        "angle = np.arctan2(y,x)\n",
        "theta = np.degrees(angle)\n",
        "\n",
        "polar_coords = np.column_stack((r,theta))\n",
        "polar_coords"
      ]
    },
    {
      "attachments": {},
      "cell_type": "markdown",
      "id": "2f60f1ec",
      "metadata": {
        "id": "2f60f1ec"
      },
      "source": [
        "#### 45. Create random vector of size 10 and replace the maximum value by 0 (★★☆)"
      ]
    },
    {
      "cell_type": "code",
      "execution_count": null,
      "id": "d9f48f1c",
      "metadata": {
        "id": "d9f48f1c"
      },
      "outputs": [],
      "source": [
        "avector = np.random.random(10)\n",
        "print(f\"Original vector : {avector}\")\n",
        "print(end = ' ')\n",
        "avector[avector.argmax()] = 0\n",
        "print(f\"maximum valu replaced with zero \")\n",
        "print(end = ' ')\n",
        "print(avector)"
      ]
    },
    {
      "attachments": {},
      "cell_type": "markdown",
      "id": "084e8ad4",
      "metadata": {
        "id": "084e8ad4"
      },
      "source": [
        "#### 46. Create a structured array with `x` and `y` coordinates covering the [0,1]x[0,1] area (★★☆)"
      ]
    },
    {
      "cell_type": "code",
      "execution_count": null,
      "id": "58b47c13",
      "metadata": {
        "id": "58b47c13"
      },
      "outputs": [],
      "source": [
        "x = np.linspace(0,1,4)\n",
        "y = np.linspace(0,1,3)\n",
        "xgrid,ygrid = np.meshgrid(x,y)\n",
        "combine = np.vstack((xgrid.ravel(), ygrid.ravel()))\n",
        "combine"
      ]
    },
    {
      "attachments": {},
      "cell_type": "markdown",
      "id": "d7b9bc42",
      "metadata": {
        "id": "d7b9bc42"
      },
      "source": [
        "#### 47. Given two arrays, X and Y, construct the Cauchy matrix C (Cij =1/(xi - yj)) (★★☆)"
      ]
    },
    {
      "cell_type": "code",
      "execution_count": null,
      "id": "a24824fb",
      "metadata": {
        "id": "a24824fb"
      },
      "outputs": [],
      "source": [
        "x = np.array([1,2,3,4,5])\n",
        "y = np.array([6,7,8,9,10])\n",
        "c = 1/(x.reshape((-1,1))-y)\n",
        "print(c)"
      ]
    },
    {
      "attachments": {},
      "cell_type": "markdown",
      "id": "65ebc11b",
      "metadata": {
        "id": "65ebc11b"
      },
      "source": [
        "#### 48. Print the minimum and maximum representable value for each numpy scalar type (★★☆)"
      ]
    },
    {
      "cell_type": "code",
      "execution_count": null,
      "id": "e45d38fb",
      "metadata": {
        "id": "e45d38fb"
      },
      "outputs": [],
      "source": [
        "import numpy as np\n",
        "\n",
        "# Integer types\n",
        "integer_types = [np.int8, np.int16, np.int32, np.int64, np.uint8, np.uint16, np.uint32, np.uint64]\n",
        "\n",
        "print(\"Integer Types:\")\n",
        "for int_type in integer_types:\n",
        "    info = np.iinfo(int_type)\n",
        "    print(f\"{int_type.__name__}: Minimum={info.min}, Maximum={info.max}\")\n",
        "\n",
        "# Floating-point types\n",
        "float_types = [np.float16, np.float32, np.float64]\n",
        "\n",
        "print(\"\\nFloating-point Types:\")\n",
        "for float_type in float_types:\n",
        "    info = np.finfo(float_type)\n",
        "    print(f\"{float_type.__name__}: Minimum={info.min}, Maximum={info.max}, Epsilon={info.eps}\")\n"
      ]
    },
    {
      "attachments": {},
      "cell_type": "markdown",
      "id": "9b317a98",
      "metadata": {
        "id": "9b317a98"
      },
      "source": [
        "#### 49. How to print all the values of an array? (★★☆)"
      ]
    },
    {
      "cell_type": "code",
      "execution_count": null,
      "id": "309cdeb9",
      "metadata": {
        "id": "309cdeb9"
      },
      "outputs": [],
      "source": [
        "array = np.arange(100)\n",
        "np.set_printoptions(threshold=True) #firstly, all elements of array were accessible, for better understanding, I changed settings\n",
        "print(f\"Original array : {array}\")\n",
        "\n",
        "np.set_printoptions(threshold=np.inf)\n",
        "print(f\"Modifed representation : {array}\")"
      ]
    },
    {
      "attachments": {},
      "cell_type": "markdown",
      "id": "b580f9d0",
      "metadata": {
        "id": "b580f9d0"
      },
      "source": [
        "#### 50. How to find the closest value (to a given scalar) in a vector? (★★☆)"
      ]
    },
    {
      "cell_type": "code",
      "execution_count": null,
      "id": "ebfb6714",
      "metadata": {
        "id": "ebfb6714"
      },
      "outputs": [],
      "source": [
        "vector = np.arange(0,100)\n",
        "print(vector)\n",
        "a = np.random.randint(0,100)\n",
        "print(a)\n",
        "min_index = (np.abs(vector-a)).argmin()\n",
        "print(min_index)"
      ]
    },
    {
      "attachments": {},
      "cell_type": "markdown",
      "id": "602e6252",
      "metadata": {
        "id": "602e6252"
      },
      "source": [
        "#### 51. Create a structured array representing a position (x,y) and a color (r,g,b) (★★☆)"
      ]
    },
    {
      "cell_type": "code",
      "execution_count": null,
      "id": "cf002b3a",
      "metadata": {
        "id": "cf002b3a"
      },
      "outputs": [],
      "source": []
    },
    {
      "attachments": {},
      "cell_type": "markdown",
      "id": "78bcd92f",
      "metadata": {
        "id": "78bcd92f"
      },
      "source": [
        "#### 52. Consider a random vector with shape (100,2) representing coordinates, find point by point distances (★★☆)"
      ]
    },
    {
      "cell_type": "code",
      "execution_count": null,
      "id": "fea7f9a6",
      "metadata": {
        "id": "fea7f9a6"
      },
      "outputs": [],
      "source": [
        "vector = np.random.random((10,2))\n",
        "\n",
        "x,y = np.atleast_2d(vector[:,0],vector[:,1])\n",
        "point_wise_distance = np.sqrt( ((x-x.T)**2) + ((y-y.T)**2))\n",
        "print(point_wise_distance.T)"
      ]
    },
    {
      "attachments": {},
      "cell_type": "markdown",
      "id": "343c5a85",
      "metadata": {
        "id": "343c5a85"
      },
      "source": [
        "#### 53. How to convert a float (32 bits) array into an integer (32 bits) in place?"
      ]
    },
    {
      "cell_type": "code",
      "execution_count": null,
      "id": "fc1b687b",
      "metadata": {
        "id": "fc1b687b"
      },
      "outputs": [],
      "source": [
        "float_arr = np.array([1.5,2.5,3.5,4.5,5.5], dtype=np.float32)\n",
        "int_array = float_arr.view(dtype=np.int32)\n",
        "int_array[:] = float_arr[:]\n",
        "print(int_array)"
      ]
    },
    {
      "attachments": {},
      "cell_type": "markdown",
      "id": "a69e1ace",
      "metadata": {
        "id": "a69e1ace"
      },
      "source": [
        "#### 54. How to read the following file? (★★☆)\n",
        "```\n",
        "1, 2, 3, 4, 5\n",
        "6,  ,  , 7, 8\n",
        " ,  , 9,10,11\n",
        "```"
      ]
    },
    {
      "cell_type": "code",
      "execution_count": null,
      "id": "1c7957d4",
      "metadata": {
        "id": "1c7957d4"
      },
      "outputs": [],
      "source": []
    },
    {
      "attachments": {},
      "cell_type": "markdown",
      "id": "c23bd80d",
      "metadata": {
        "id": "c23bd80d"
      },
      "source": [
        "#### 55. What is the equivalent of enumerate for numpy arrays? (★★☆)"
      ]
    },
    {
      "cell_type": "code",
      "execution_count": null,
      "id": "d95d9578",
      "metadata": {
        "id": "d95d9578"
      },
      "outputs": [],
      "source": [
        "array = np.array(([1,2],[3,4],[5,6]))\n",
        "\n",
        "for x,y in np.ndenumerate(array):\n",
        "  print(f\"index {x} -> value {y}\")"
      ]
    },
    {
      "attachments": {},
      "cell_type": "markdown",
      "id": "2153a5ec",
      "metadata": {
        "id": "2153a5ec"
      },
      "source": [
        "#### 56. Generate a generic 2D Gaussian-like array (★★☆)"
      ]
    },
    {
      "cell_type": "code",
      "execution_count": null,
      "id": "61122d1e",
      "metadata": {
        "id": "61122d1e"
      },
      "outputs": [],
      "source": [
        "vector = np.random.random((5,2))\n",
        "x,y = np.atleast_2d(vector[:,0],vector[:,1])\n",
        "mesh = np.meshgrid(x, y)\n",
        "d = np.sqrt((x**2) + (y**2))\n",
        "sigma,mu = 1.0, 0.0\n",
        "gaussian =np.exp(-((d-mu)**2/ (2 * sigma**2)))\n",
        "gaussian"
      ]
    },
    {
      "attachments": {},
      "cell_type": "markdown",
      "id": "2e76d589",
      "metadata": {
        "id": "2e76d589"
      },
      "source": [
        "#### 57. How to randomly place p elements in a 2D array? (★★☆)"
      ]
    },
    {
      "cell_type": "code",
      "execution_count": null,
      "id": "0c2e4fcc",
      "metadata": {
        "id": "0c2e4fcc"
      },
      "outputs": [],
      "source": [
        "def create_array(array, p):\n",
        "  rows, cols = array.shape\n",
        "  total_elements = rows * cols\n",
        "  if p > total_elements:\n",
        "    raise ValueError(\"Invalid NUmber of elements\")\n",
        "  indices_for_place = np.random.choice(total_elements, p,replace = False )\n",
        "  elements_to_place = np.ones(p,dtype= array.dtype)\n",
        "  np.put(array, indices_for_place, elements_to_place)\n",
        "  return array\n",
        "\n",
        "p = 5\n",
        "rows=cols=5\n",
        "array = np.zeros((rows,cols),dtype = int)\n",
        "create_array(array,p)"
      ]
    },
    {
      "attachments": {},
      "cell_type": "markdown",
      "id": "8b3933eb",
      "metadata": {
        "id": "8b3933eb"
      },
      "source": [
        "#### 58. Subtract the mean of each row of a matrix (★★☆)"
      ]
    },
    {
      "cell_type": "code",
      "execution_count": null,
      "id": "a306c9ef",
      "metadata": {
        "id": "a306c9ef"
      },
      "outputs": [],
      "source": [
        "matrix = np.random.rand(5,3)\n",
        "print(f\"Original matrix -> {matrix}\")\n",
        "nmatrix = matrix - matrix.mean(axis=1, keepdims=True)\n",
        "print(\"\\n\")\n",
        "print(f\"Matrix with mean subtracted from each \\n {nmatrix}\")"
      ]
    },
    {
      "attachments": {},
      "cell_type": "markdown",
      "id": "ea8807c0",
      "metadata": {
        "id": "ea8807c0"
      },
      "source": [
        "#### 59. How to sort an array by the nth column? (★★☆)"
      ]
    },
    {
      "cell_type": "code",
      "execution_count": null,
      "id": "cc89a699",
      "metadata": {
        "id": "cc89a699"
      },
      "outputs": [],
      "source": [
        "rows=cols=2\n",
        "array = np.random.randint(0,10,size=(rows,cols))\n",
        "array = array[array[:,1].argsort()]\n",
        "array"
      ]
    },
    {
      "attachments": {},
      "cell_type": "markdown",
      "id": "00fa00a1",
      "metadata": {
        "id": "00fa00a1"
      },
      "source": [
        "#### 60. How to tell if a given 2D array has null columns? (★★☆)"
      ]
    },
    {
      "cell_type": "code",
      "execution_count": null,
      "id": "3436e165",
      "metadata": {
        "id": "3436e165"
      },
      "outputs": [],
      "source": [
        "array = np.random.randint(0,3,(2,2))\n",
        "print(array)\n",
        "\n",
        "print(f\"Does array has any null column : {(~array.any(axis=0)).any()}\")"
      ]
    },
    {
      "attachments": {},
      "cell_type": "markdown",
      "id": "5a65c7a2",
      "metadata": {
        "id": "5a65c7a2"
      },
      "source": [
        "#### 61. Find the nearest value from a given value in an array (★★☆)"
      ]
    },
    {
      "cell_type": "code",
      "execution_count": null,
      "id": "73f149d6",
      "metadata": {
        "id": "73f149d6"
      },
      "outputs": [],
      "source": [
        "def value_check(array,value):\n",
        "  index = (np.abs(array-value)).argmin()\n",
        "  return index\n",
        "\n",
        "array = np.random.randint(0,3,(3,3))\n",
        "print(array)\n",
        "value = np.random.randint(10)\n",
        "\n",
        "\n",
        "print(f\"The values {value} lies closely with {value_check(array,value)}\")"
      ]
    },
    {
      "attachments": {},
      "cell_type": "markdown",
      "id": "dd83e8af",
      "metadata": {
        "id": "dd83e8af"
      },
      "source": [
        "#### 62. Considering two arrays with shape (1,3) and (3,1), how to compute their sum using an iterator? (★★☆)"
      ]
    },
    {
      "cell_type": "code",
      "execution_count": null,
      "id": "29a709a1",
      "metadata": {
        "id": "29a709a1"
      },
      "outputs": [],
      "source": [
        "array1 = np.array([[1, 2, 3]])\n",
        "array2 = np.array([[4], [5], [6]])\n",
        "\n",
        "if array1.shape == (1,3) and array2.shape == (3,1):\n",
        "  iterator1 = np.nditer(array1)\n",
        "  iterator2 = np.nditer(array2)\n",
        "  sum=0\n",
        "  for elements1 in iterator1:\n",
        "    for elements2 in iterator2:\n",
        "      sum += (elements1 + elements2)\n",
        "  print(f\" Sum of two arrays : {sum}\\n\")\n",
        "else:\n",
        "  print(\"Not comaprable.\")"
      ]
    },
    {
      "attachments": {},
      "cell_type": "markdown",
      "id": "6c042efa",
      "metadata": {
        "id": "6c042efa"
      },
      "source": [
        "#### 63. Create an array class that has a name attribute (★★☆)"
      ]
    },
    {
      "cell_type": "code",
      "execution_count": null,
      "id": "45b3d2e0",
      "metadata": {
        "id": "45b3d2e0"
      },
      "outputs": [],
      "source": [
        "class array:\n",
        "  def __init__(self,name,data):\n",
        "    self.name = name\n",
        "    self.data = data\n",
        "  def __repr__(self):\n",
        "    return f\"array('{self.name}','{self.data}')\""
      ]
    },
    {
      "attachments": {},
      "cell_type": "markdown",
      "id": "0a075c3d",
      "metadata": {
        "id": "0a075c3d"
      },
      "source": [
        "#### 64. Consider a given vector, how to add 1 to each element indexed by a second vector (be careful with repeated indices)? (★★★)"
      ]
    },
    {
      "cell_type": "code",
      "execution_count": null,
      "id": "36c50470",
      "metadata": {
        "id": "36c50470"
      },
      "outputs": [],
      "source": [
        "index = np.array([0,2,3,4,5])\n",
        "\n",
        "F = np.zeros(np.max(index) + 1)\n",
        "\n",
        "x = np.array([20,30,40,50,60,70])\n",
        "\n",
        "if len(x) >= np.max(index):\n",
        "  for i, index in enumerate(index):\n",
        "    F[index] += x[i]+1\n",
        "else:\n",
        "  print(\"UNmatchable\")\n",
        "\n",
        "print(F)"
      ]
    },
    {
      "attachments": {},
      "cell_type": "markdown",
      "id": "0fb2f0c5",
      "metadata": {
        "id": "0fb2f0c5"
      },
      "source": [
        "#### 65. How to accumulate elements of a vector (X) to an array (F) based on an index list (I)? (★★★)"
      ]
    },
    {
      "cell_type": "code",
      "execution_count": null,
      "id": "58aa5f82",
      "metadata": {
        "id": "58aa5f82"
      },
      "outputs": [],
      "source": []
    },
    {
      "attachments": {},
      "cell_type": "markdown",
      "id": "d89dc506",
      "metadata": {
        "id": "d89dc506"
      },
      "source": [
        "#### 66. Considering a (w,h,3) image of (dtype=ubyte), compute the number of unique colors (★★☆)"
      ]
    },
    {
      "cell_type": "code",
      "execution_count": null,
      "id": "8fb43a49",
      "metadata": {
        "id": "8fb43a49"
      },
      "outputs": [],
      "source": [
        "h=w=128\n",
        "Image = np.random.randint(0,2,(h,w,3)).astype(np.ubyte)\n",
        "reshaped_image = Image.reshape(-1,3)\n",
        "color_code = (reshaped_image[:,0] * (256**2)) + (reshaped_image[:,1] * (256)) + reshaped_image[:,2]\n",
        "\n",
        "unique_color = np.unique(color_code)\n",
        "num_unique = len(unique_color)\n",
        "print(f\"Image contains {num_unique} colours\")"
      ]
    },
    {
      "attachments": {},
      "cell_type": "markdown",
      "id": "535a5d81",
      "metadata": {
        "id": "535a5d81"
      },
      "source": [
        "#### 67. Considering a four dimensions array, how to get sum over the last two axis at once? (★★★)"
      ]
    },
    {
      "cell_type": "code",
      "execution_count": null,
      "id": "f954ab9d",
      "metadata": {
        "id": "f954ab9d"
      },
      "outputs": [],
      "source": [
        "import numpy as np\n",
        "\n",
        "a, b, c, d = 2, 2, 2, 2\n",
        "\n",
        "# Create a 4-dimensional array with random integers between 0 and 10\n",
        "array = np.random.randint(0, 10, size=(a, b, c, d))\n",
        "\n",
        "print(array)\n",
        "\n",
        "sum_over_last_two_axes = np.sum(array, axis=(-2, -1))\n",
        "print(\"\\n\")\n",
        "print(sum_over_last_two_axes)\n"
      ]
    },
    {
      "attachments": {},
      "cell_type": "markdown",
      "id": "eee66d3c",
      "metadata": {
        "id": "eee66d3c"
      },
      "source": [
        "#### 68. Considering a one-dimensional vector D, how to compute means of subsets of D using a vector S of same size describing subset  indices? (★★★)"
      ]
    },
    {
      "cell_type": "code",
      "execution_count": null,
      "id": "8929773a",
      "metadata": {
        "id": "8929773a"
      },
      "outputs": [],
      "source": [
        "import numpy as np\n",
        "\n",
        "def compute_subset_means(D, S):\n",
        "    unique_indices, subset_counts = np.unique(S, return_counts=True)\n",
        "    subset_sums = np.bincount(S, weights=D)\n",
        "    subset_means = subset_sums / subset_counts\n",
        "    return subset_means\n",
        "D = np.array([5, 8, 3, 6, 2])\n",
        "S = np.array([0, 1, 1, 0, 1])\n",
        "\n",
        "subset_means = compute_subset_means(D, S)\n",
        "print(subset_means)"
      ]
    },
    {
      "attachments": {},
      "cell_type": "markdown",
      "id": "f90d4c40",
      "metadata": {
        "id": "f90d4c40"
      },
      "source": [
        "#### 69. How to get the diagonal of a dot product? (★★★)"
      ]
    },
    {
      "cell_type": "code",
      "execution_count": null,
      "id": "b47d392d",
      "metadata": {
        "id": "b47d392d"
      },
      "outputs": [],
      "source": [
        "array1 = np.random.randint(1, 4, size=(2, 2))\n",
        "array2 = np.random.randint(1, 4, size=(2, 2))\n",
        "# print(array1)\n",
        "# print(array2)\n",
        "print(\"\\n\")\n",
        "\n",
        "dot_product = np.dot(array1,array2)\n",
        "print(f\"dot_product of arrays is \\n{dot_product}\")\n",
        "diag = np.diag(dot_product)\n",
        "print(\"\\n\")\n",
        "print(f\"Diagonals of dot product are {diag}\")"
      ]
    },
    {
      "attachments": {},
      "cell_type": "markdown",
      "id": "a8a97e7d",
      "metadata": {
        "id": "a8a97e7d"
      },
      "source": [
        "#### 70. Consider the vector [1, 2, 3, 4, 5], how to build a new vector with 3 consecutive zeros interleaved between each value? (★★★)"
      ]
    },
    {
      "cell_type": "code",
      "execution_count": null,
      "id": "ee6c6c37",
      "metadata": {
        "id": "ee6c6c37"
      },
      "outputs": [],
      "source": [
        "import numpy as np\n",
        "\n",
        "# Original vector\n",
        "original_vector = np.array([1, 2, 3, 4, 5])\n",
        "\n",
        "# Create a new vector with three consecutive zeros interleaved between each value\n",
        "lower = len(original_vector)\n",
        "upper = len(original_vector-1) *3\n",
        "sum = lower + upper\n",
        "new_vector = np.zeros(sum, dtype=original_vector.dtype)\n",
        "new_vector[::4] = original_vector\n",
        "\n",
        "print(new_vector)\n"
      ]
    },
    {
      "attachments": {},
      "cell_type": "markdown",
      "id": "d6a30d60",
      "metadata": {
        "id": "d6a30d60"
      },
      "source": [
        "#### 71. Consider an array of dimension (5,5,3), how to mulitply it by an array with dimensions (5,5)? (★★★)"
      ]
    },
    {
      "cell_type": "code",
      "execution_count": null,
      "id": "e9703f2e",
      "metadata": {
        "id": "e9703f2e"
      },
      "outputs": [],
      "source": [
        "import numpy as np\n",
        "\n",
        "# Create a 3D array of shape (5, 5, 3)\n",
        "array_3d = np.random.rand(5, 5, 3)\n",
        "\n",
        "# Create a 2D array of shape (5, 5)\n",
        "array_2d = np.random.rand(5, 5)\n",
        "\n",
        "# Multiply the 3D array by the 2D array using broadcasting\n",
        "result = array_3d * array_2d[:, :, None]\n",
        "\n",
        "print(result)\n"
      ]
    },
    {
      "attachments": {},
      "cell_type": "markdown",
      "id": "bac359a9",
      "metadata": {
        "id": "bac359a9"
      },
      "source": [
        "#### 72. How to swap two rows of an array? (★★★)"
      ]
    },
    {
      "cell_type": "code",
      "execution_count": null,
      "id": "f1b432b1",
      "metadata": {
        "id": "f1b432b1"
      },
      "outputs": [],
      "source": [
        "import numpy as np\n",
        "\n",
        "# Create an example 2D array\n",
        "array = np.array([[1, 2, 3],\n",
        "                  [4, 5, 6],\n",
        "                  [7, 8, 9]])\n",
        "\n",
        "# Swap rows 0 and 1\n",
        "array[[0, 1]] = array[[1, 0]]\n",
        "\n",
        "print(array)\n"
      ]
    },
    {
      "attachments": {},
      "cell_type": "markdown",
      "id": "620c9f83",
      "metadata": {
        "id": "620c9f83"
      },
      "source": [
        "#### 73. Consider a set of 10 triplets describing 10 triangles (with shared vertices), find the set of unique line segments composing all the  triangles (★★★)"
      ]
    },
    {
      "cell_type": "code",
      "execution_count": null,
      "id": "4e595ffc",
      "metadata": {
        "id": "4e595ffc"
      },
      "outputs": [],
      "source": [
        "import numpy as np\n",
        "\n",
        "# Example set of 10 triplets describing 10 triangles (with shared vertices)\n",
        "triplets = np.array([\n",
        "    [0, 1, 2],\n",
        "    [1, 2, 3],\n",
        "    [2, 3, 4],\n",
        "    [3, 4, 5],\n",
        "    [4, 5, 6],\n",
        "    [5, 6, 7],\n",
        "    [6, 7, 8],\n",
        "    [7, 8, 9],\n",
        "    [8, 9, 0],\n",
        "    [9, 0, 1],\n",
        "])\n",
        "\n",
        "# Extract line segments from triplets and create pairs of vertices for each segment\n",
        "segments = triplets[:, [0, 1, 1, 2, 2, 0]].reshape(-1, 2)\n",
        "\n",
        "sorted_segments = np.sort(segments, axis=1)\n",
        "\n",
        "# Create a structured view treating each row of sorted_segments as a tuple of two elements\n",
        "segment_views = sorted_segments.view(dtype=[('p0', sorted_segments.dtype), ('p1', sorted_segments.dtype)])\n",
        "\n",
        "# Find unique line segments by removing duplicates from the structured view\n",
        "unique_segments = np.unique(segment_views)\n",
        "\n",
        "print(unique_segments)\n"
      ]
    },
    {
      "attachments": {},
      "cell_type": "markdown",
      "id": "a76c55a2",
      "metadata": {
        "id": "a76c55a2"
      },
      "source": [
        "#### 74. Given a sorted array C that corresponds to a bincount, how to produce an array A such that np.bincount(A) == C? (★★★)"
      ]
    },
    {
      "cell_type": "code",
      "execution_count": null,
      "id": "2d2ae65a",
      "metadata": {
        "id": "2d2ae65a"
      },
      "outputs": [],
      "source": [
        "import numpy as np\n",
        "\n",
        "# Generate a random 1-dimensional array of size 20 with integer values between 0 and 5\n",
        "random_array = np.random.randint(0, 6, 20)\n",
        "\n",
        "# Compute the bincount of the random array\n",
        "C = np.bincount(random_array)\n",
        "\n",
        "# Create an array A by repeating the indices of C based on their counts\n",
        "A = np.repeat(np.arange(len(C)), C)\n",
        "\n",
        "print(\"Random Array:\")\n",
        "print(random_array)\n",
        "print(\"\\nBincount of Random Array:\")\n",
        "print(C)\n",
        "print(\"\\nArray A such that np.bincount(A) == C:\")\n",
        "print(A)\n"
      ]
    },
    {
      "attachments": {},
      "cell_type": "markdown",
      "id": "d550c8e2",
      "metadata": {
        "id": "d550c8e2"
      },
      "source": [
        "#### 75. How to compute averages using a sliding window over an array? (★★★)"
      ]
    },
    {
      "cell_type": "code",
      "execution_count": null,
      "id": "841c457c",
      "metadata": {
        "id": "841c457c"
      },
      "outputs": [],
      "source": [
        "array = np.array([1,2,3,4,5,6,7,8,9,10])\n",
        "window_size = 3\n",
        "sum = np.cumsum(array)\n",
        "windowed_sum = sliding_window_view(sum,window_size)\n",
        "averages = windowed_sum.mean(axis=1)\n",
        "\n",
        "print(averages)"
      ]
    },
    {
      "attachments": {},
      "cell_type": "markdown",
      "id": "6b170b00",
      "metadata": {
        "id": "6b170b00"
      },
      "source": [
        "#### 76. Consider a one-dimensional array Z, build a two-dimensional array whose first row is (Z[0],Z[1],Z[2]) and each subsequent row is  shifted by 1 (last row should be (Z[-3],Z[-2],Z[-1]) (★★★)"
      ]
    },
    {
      "cell_type": "code",
      "execution_count": null,
      "id": "d9a0cf4e",
      "metadata": {
        "id": "d9a0cf4e"
      },
      "outputs": [],
      "source": [
        "import numpy as np\n",
        "# Given one-dimensional array Z\n",
        "Z = np.array([1, 2, 3, 4, 5, 6, 7, 8, 9])\n",
        "\n",
        "# Create sliding windows of size 3 over Z\n",
        "sliding_windows = sliding_window_view(Z, 3)\n",
        "\n",
        "# Convert sliding_windows to a two-dimensional array\n",
        "two_dimensional_array = sliding_windows.copy()\n",
        "\n",
        "print(two_dimensional_array)\n"
      ]
    },
    {
      "attachments": {},
      "cell_type": "markdown",
      "id": "e94a5c1d",
      "metadata": {
        "id": "e94a5c1d"
      },
      "source": [
        "#### 77. How to negate a boolean, or to change the sign of a float inplace? (★★★)"
      ]
    },
    {
      "cell_type": "code",
      "execution_count": null,
      "id": "c0f9504f",
      "metadata": {
        "id": "c0f9504f"
      },
      "outputs": [],
      "source": [
        "bool_array = np.array([True, False, False, True])\n",
        "bool_neg_array = np.logical_not(bool_array)\n",
        "print(f\"bool array = {bool_array} and negative of array is = {bool_neg_array}\")\n",
        "\n",
        "float_array = np.array([1.5,-2.5,3.5,4.5])\n",
        "float_neg_array = np.negative(float_array)\n",
        "print(f\"float array = {float_array} and negative = {float_neg_array}\")"
      ]
    },
    {
      "attachments": {},
      "cell_type": "markdown",
      "id": "4eb8b5c1",
      "metadata": {
        "id": "4eb8b5c1"
      },
      "source": [
        "#### 78. Consider 2 sets of points P0,P1 describing lines (2d) and a point p, how to compute distance from p to each line i (P0[i],P1[i])? (★★★)"
      ]
    },
    {
      "cell_type": "code",
      "execution_count": null,
      "id": "487f47ec",
      "metadata": {
        "id": "487f47ec"
      },
      "outputs": [],
      "source": [
        "import math\n",
        "\n",
        "def distance_from_point_to_lines(P0, P1, p):\n",
        "    distances = []\n",
        "\n",
        "    for i in range(len(P0)):\n",
        "        x0, y0 = P0[i]\n",
        "        x1, y1 = P1[i]\n",
        "\n",
        "        \n",
        "        dx = x1 - x0\n",
        "        dy = y1 - y0\n",
        "\n",
        "        \n",
        "        px, py = p\n",
        "        vx = px - x0\n",
        "        vy = py - y0\n",
        "\n",
        "       \n",
        "        dot_product = vx * dx + vy * dy # calculating dot product \n",
        "\n",
        "        \n",
        "        line_length_squared = dx**2 + dy**2\n",
        "\n",
        "       \n",
        "        t = max(0, min(dot_product / line_length_squared, 1))\n",
        "\n",
        "        \n",
        "        closest_x = x0 + t * dx\n",
        "        closest_y = y0 + t * dy\n",
        "\n",
        "        \n",
        "        distance = math.sqrt((closest_x - px)**2 + (closest_y - py)**2)\n",
        "        distances.append(distance)\n",
        "\n",
        "    return distances\n",
        "\n",
        "P0 = [(1, 1), (3, 2)]  # Starting points\n",
        "P1 = [(5, 4), (2, 4)]  # Ending points o\n",
        "p = (4, 3)  # The point from which to calculate distances\n",
        "\n",
        "distances = distance_from_point_to_lines(P0, P1, p)\n",
        "print(distances)\n"
      ]
    },
    {
      "attachments": {},
      "cell_type": "markdown",
      "id": "3df99948",
      "metadata": {
        "id": "3df99948"
      },
      "source": [
        "#### 79. Consider 2 sets of points P0,P1 describing lines (2d) and a set of points P, how to compute distance from each point j (P[j]) to each line i (P0[i],P1[i])? (★★★)"
      ]
    },
    {
      "cell_type": "code",
      "execution_count": null,
      "id": "dc2df37b",
      "metadata": {
        "id": "dc2df37b"
      },
      "outputs": [],
      "source": [
        "import numpy as np\n",
        "\n",
        "def distance_from_points_to_lines(P0, P1, P):\n",
        "    P0 = np.array(P0)\n",
        "    P1 = np.array(P1)\n",
        "    P = np.array(P)\n",
        "\n",
        "    line_directions = P1 - P0\n",
        "    vectors_to_P = P[:, np.newaxis] - P0\n",
        "    line_lengths = np.linalg.norm(line_directions, axis=1)\n",
        "\n",
        "    dot_products = np.sum(vectors_to_P * line_directions, axis=2)\n",
        "    t_values = np.clip(dot_products / line_lengths**2, 0, 1)\n",
        "\n",
        "    closest_points = P0 + t_values[:, :, np.newaxis] * line_directions\n",
        "\n",
        "    distances = np.linalg.norm(closest_points - P[:, np.newaxis], axis=2)\n",
        "\n",
        "    return distances\n",
        "\n",
        "P0 = [(1, 1), (3, 2)]  # Starting points of the lines\n",
        "P1 = [(5, 4), (2, 4)]  # Ending points of the lines\n",
        "P = [(4, 3), (2, 2), (6, 5)]  # Set of points\n",
        "\n",
        "distances = distance_from_points_to_lines(P0, P1, P)\n",
        "print(distances)\n"
      ]
    },
    {
      "attachments": {},
      "cell_type": "markdown",
      "id": "11e972c2",
      "metadata": {
        "id": "11e972c2"
      },
      "source": [
        "#### 80. Consider an arbitrary array, write a function that extract a subpart with a fixed shape and centered on a given element (pad with a `fill` value when necessary) (★★★)"
      ]
    },
    {
      "cell_type": "code",
      "execution_count": null,
      "id": "0291247f",
      "metadata": {
        "id": "0291247f"
      },
      "outputs": [],
      "source": []
    },
    {
      "attachments": {},
      "cell_type": "markdown",
      "id": "93cfeab3",
      "metadata": {
        "id": "93cfeab3"
      },
      "source": [
        "#### 81. Consider an array Z = [1,2,3,4,5,6,7,8,9,10,11,12,13,14], how to generate an array R = [[1,2,3,4], [2,3,4,5], [3,4,5,6], ..., [11,12,13,14]]? (★★★)"
      ]
    },
    {
      "cell_type": "code",
      "execution_count": null,
      "id": "360de791",
      "metadata": {
        "id": "360de791"
      },
      "outputs": [],
      "source": []
    },
    {
      "attachments": {},
      "cell_type": "markdown",
      "id": "4c15ceff",
      "metadata": {
        "id": "4c15ceff"
      },
      "source": [
        "#### 82. Compute a matrix rank (★★★)"
      ]
    },
    {
      "cell_type": "code",
      "execution_count": null,
      "id": "9a4272d2",
      "metadata": {
        "id": "9a4272d2"
      },
      "outputs": [],
      "source": [
        "matrix = np.array([[1,2,3],[4,5,6],[7,8,9]])\n",
        "print(f\"Matrix is \\n{matrix}\\n\")\n",
        "rank_of_matrix = np.linalg.matrix_rank(matrix)\n",
        "print(f\"Rank of matrix is -> {rank_of_matrix}\")"
      ]
    },
    {
      "attachments": {},
      "cell_type": "markdown",
      "id": "1171cb84",
      "metadata": {
        "id": "1171cb84"
      },
      "source": [
        "#### 83. How to find the most frequent value in an array?"
      ]
    },
    {
      "cell_type": "code",
      "execution_count": null,
      "id": "33e951c8",
      "metadata": {
        "id": "33e951c8"
      },
      "outputs": [],
      "source": [
        "array = np.random.randint(0,10,10)\n",
        "print(array)\n",
        "print(f\"Most frequent number in array is : {np.bincount(array).argmax()}\")"
      ]
    },
    {
      "attachments": {},
      "cell_type": "markdown",
      "id": "04f472aa",
      "metadata": {
        "id": "04f472aa"
      },
      "source": [
        "#### 84. Extract all the contiguous 3x3 blocks from a random 10x10 matrix (★★★)"
      ]
    },
    {
      "cell_type": "code",
      "execution_count": null,
      "id": "7aade14a",
      "metadata": {
        "id": "7aade14a"
      },
      "outputs": [],
      "source": [
        "matrix = np.random.randint(0,10,(10,10))\n",
        "n = 4\n",
        "i = 1 + (matrix.shape[0]-4)\n",
        "j = 1 + (matrix.shape[1]-4)\n",
        "result = np.lib.stride_tricks.as_strided(matrix, shape=(i, j, n, n), strides = matrix.strides + matrix.strides)\n",
        "print(\"\\nContiguous 4x4 blocks:\")\n",
        "print(result)"
      ]
    },
    {
      "attachments": {},
      "cell_type": "markdown",
      "id": "52836346",
      "metadata": {
        "id": "52836346"
      },
      "source": [
        "#### 85. Create a 2D array subclass such that Z[i,j] == Z[j,i] (★★★)"
      ]
    },
    {
      "cell_type": "code",
      "execution_count": null,
      "id": "4df70318",
      "metadata": {
        "id": "4df70318"
      },
      "outputs": [],
      "source": []
    },
    {
      "attachments": {},
      "cell_type": "markdown",
      "id": "78c43ee5",
      "metadata": {
        "id": "78c43ee5"
      },
      "source": [
        "#### 86. Consider a set of p matrices with shape (n,n) and a set of p vectors with shape (n,1). How to compute the sum of of the p matrix products at once? (result has shape (n,1)) (★★★)"
      ]
    },
    {
      "cell_type": "code",
      "execution_count": null,
      "id": "32fd2c3b",
      "metadata": {
        "id": "32fd2c3b"
      },
      "outputs": [],
      "source": [
        "import numpy as np\n",
        "\n",
        "def compute_sum_of_matrix_products(matrices, vectors):\n",
        "  return np.tensordot(matrices, vectors, axes=([0, 2], [0, 1]))\n",
        "\n",
        "p = 3\n",
        "n = 4\n",
        "\n",
        "# Generating random matrix hers\n",
        "matrices = np.random.rand(p, n, n)\n",
        "vectors = np.random.rand(p, n, 1)\n",
        "\n",
        "#sum of matrix products\n",
        "result = compute_sum_of_matrix_products(matrices, vectors)\n",
        "\n",
        "print(\"Matrices:\")\n",
        "print(matrices)\n",
        "\n",
        "print(\"\\nVectors:\")\n",
        "print(vectors)\n",
        "\n",
        "print(\"\\nSum of matrix products:\")\n",
        "print(result)\n"
      ]
    },
    {
      "attachments": {},
      "cell_type": "markdown",
      "id": "158f9945",
      "metadata": {
        "id": "158f9945"
      },
      "source": [
        "#### 87. Consider a 16x16 array, how to get the block-sum (block size is 4x4)? (★★★)"
      ]
    },
    {
      "cell_type": "code",
      "execution_count": null,
      "id": "5a9b808f",
      "metadata": {
        "id": "5a9b808f"
      },
      "outputs": [],
      "source": [
        "array = np.arange(10)\n",
        "print(\"Original array \",array)\n",
        "\n",
        "n = 2\n",
        "print (array[np.argsort(array)[-n:]])"
      ]
    },
    {
      "attachments": {},
      "cell_type": "markdown",
      "id": "2e0ad860",
      "metadata": {
        "id": "2e0ad860"
      },
      "source": [
        "#### 88. How to implement the Game of Life using numpy arrays? (★★★)"
      ]
    },
    {
      "cell_type": "code",
      "execution_count": null,
      "id": "574acff5",
      "metadata": {
        "id": "574acff5"
      },
      "outputs": [],
      "source": []
    },
    {
      "attachments": {},
      "cell_type": "markdown",
      "id": "69a892fa",
      "metadata": {
        "id": "69a892fa"
      },
      "source": [
        "#### 89. How to get the n largest values of an array (★★★)"
      ]
    },
    {
      "cell_type": "code",
      "execution_count": null,
      "id": "21b2bd48",
      "metadata": {
        "id": "21b2bd48"
      },
      "outputs": [],
      "source": [
        "array = np.arange(10)\n",
        "print(array)\n",
        "k = np.random.randint(1, len(array))\n",
        "print(k)\n",
        "print(array[np.argsort(array)[-k::]])"
      ]
    },
    {
      "attachments": {},
      "cell_type": "markdown",
      "id": "b55ccacc",
      "metadata": {
        "id": "b55ccacc"
      },
      "source": [
        "#### 90. Given an arbitrary number of vectors, build the cartesian product (every combinations of every item) (★★★)"
      ]
    },
    {
      "cell_type": "code",
      "execution_count": null,
      "id": "4b645da4",
      "metadata": {
        "id": "4b645da4"
      },
      "outputs": [],
      "source": [
        "import itertools\n",
        "\n",
        "def cartesian_product(*vectors):\n",
        "    return list(itertools.product(*vectors))\n",
        "\n",
        "# Example usage:\n",
        "A = [1, 2]\n",
        "B = [3, 4]\n",
        "C = [5, 6]\n",
        "\n",
        "result = cartesian_product(A, B, C)\n",
        "print(result)\n"
      ]
    },
    {
      "attachments": {},
      "cell_type": "markdown",
      "id": "89187a23",
      "metadata": {
        "id": "89187a23"
      },
      "source": [
        "#### 91. How to create a record array from a regular array? (★★★)"
      ]
    },
    {
      "cell_type": "code",
      "execution_count": null,
      "id": "da94c71a",
      "metadata": {
        "id": "da94c71a"
      },
      "outputs": [],
      "source": [
        "import numpy as np\n",
        "\n",
        "# Create a regular array (2D array or list of tuples)\n",
        "array = np.array([(1, \"usman1\", 40),\n",
        "                          (2, \"usman2\", 30),\n",
        "                          (3, \"usman3\", 22)])\n",
        "\n",
        "# Define field names for the columns\n",
        "field_names = ['ID', 'Name', 'Age']\n",
        "\n",
        "# Create a record array from the regular array using np.core.records.fromarrays\n",
        "record_array = np.core.records.fromarrays(array.T, names=field_names)\n",
        "\n",
        "# Accessing data from the record array by field names\n",
        "print(record_array['ID'])\n",
        "print(record_array['Name'])\n",
        "print(record_array['Age'])\n"
      ]
    },
    {
      "attachments": {},
      "cell_type": "markdown",
      "id": "aa70d4ca",
      "metadata": {
        "id": "aa70d4ca"
      },
      "source": [
        "#### 92. Consider a large vector Z, compute Z to the power of 3 using 3 different methods (★★★)"
      ]
    },
    {
      "cell_type": "code",
      "execution_count": null,
      "id": "7cff1bf5",
      "metadata": {
        "id": "7cff1bf5"
      },
      "outputs": [],
      "source": [
        "import numpy as np\n",
        "\n",
        "\n",
        "Z = np.random.rand(10)\n",
        "\n",
        "method1 = np.power(Z, 3)\n",
        "method2 = Z * Z * Z\n",
        "method3 = np.einsum('i,i,i->i', Z, Z, Z)\n",
        "print(f\"Using power method, the output is {method1}\")\n",
        "print(f\"Using cube method, the output is {method2}\")\n",
        "print(f\"Using einsum method, the output is {method3}\")\n",
        "\n",
        "\n"
      ]
    },
    {
      "attachments": {},
      "cell_type": "markdown",
      "id": "5f79dd00",
      "metadata": {
        "id": "5f79dd00"
      },
      "source": [
        "#### 93. Consider two arrays A and B of shape (8,3) and (2,2). How to find rows of A that contain elements of each row of B regardless of the order of the elements in B? (★★★)"
      ]
    },
    {
      "cell_type": "code",
      "execution_count": null,
      "id": "20c105b2",
      "metadata": {
        "id": "20c105b2"
      },
      "outputs": [],
      "source": [
        "import numpy as np\n",
        "\n",
        "# Example arrays A and B (smaller size)\n",
        "A = np.array([[1, 2, 3],\n",
        "              [3, 2, 1],\n",
        "              [5, 4, 6]])\n",
        "\n",
        "B = np.array([[1, 2],\n",
        "              [3, 4]])\n",
        "\n",
        "# Find rows of A that contain elements of each row of B\n",
        "rows_with_elements = []\n",
        "for row_b in B:\n",
        "    mask = np.where((A == row_b[0]) | (A == row_b[1]))\n",
        "    rows_with_elements.extend(np.unique(mask[0]))\n",
        "\n",
        "rows_with_elements = np.unique(rows_with_elements)\n",
        "\n",
        "# Resulting rows of A\n",
        "result = A[rows_with_elements]\n",
        "print(result)\n"
      ]
    },
    {
      "attachments": {},
      "cell_type": "markdown",
      "id": "a80570cd",
      "metadata": {
        "id": "a80570cd"
      },
      "source": [
        "#### 94. Considering a 10x3 matrix, extract rows with unequal values (e.g. [2,2,3]) (★★★)"
      ]
    },
    {
      "cell_type": "code",
      "execution_count": null,
      "id": "84db8de1",
      "metadata": {
        "id": "84db8de1"
      },
      "outputs": [],
      "source": [
        "import numpy as np\n",
        "\n",
        "\n",
        "matrix = np.array([[1, 2, 3],[2, 2, 3],[4, 5, 6],[2, 3, 3],\n",
        "                   [1, 1, 1],[7, 7, 7],[8, 8, 8],[3, 2, 1],\n",
        "                   [6, 6, 6],[9, 9, 9]])\n",
        "\n",
        "\n",
        "unequal_rows = matrix[np.any(matrix != matrix[:, 0][:, np.newaxis], axis=1)] # this is used to find all rows having any unequal values.\n",
        "\n",
        "print(unequal_rows)\n"
      ]
    },
    {
      "attachments": {},
      "cell_type": "markdown",
      "id": "ba154f43",
      "metadata": {
        "id": "ba154f43"
      },
      "source": [
        "#### 95. Convert a vector of ints into a matrix binary representation (★★★)"
      ]
    },
    {
      "cell_type": "code",
      "execution_count": null,
      "id": "cfa96e1b",
      "metadata": {
        "id": "cfa96e1b"
      },
      "outputs": [],
      "source": [
        "import numpy as np\n",
        "\n",
        "# Create a 10x3 matrix as an example\n",
        "matrix = np.array([[1, 2, 3],\n",
        "                   [2, 2, 3],\n",
        "                   [4, 5, 6],\n",
        "                   [2, 3, 3],\n",
        "                   [1, 1, 1],\n",
        "                   [7, 7, 7]])\n",
        "\n",
        "# Use np.any() along axis=1 to find rows with unequal values\n",
        "binary_matrix = (matrix > 0).astype(int)\n",
        "\n",
        "print(binary_matrix)\n"
      ]
    },
    {
      "attachments": {},
      "cell_type": "markdown",
      "id": "420e2343",
      "metadata": {
        "id": "420e2343"
      },
      "source": [
        "#### 96. Given a two dimensional array, how to extract unique rows? (★★★)"
      ]
    },
    {
      "cell_type": "code",
      "execution_count": null,
      "id": "4680dfd0",
      "metadata": {
        "id": "4680dfd0"
      },
      "outputs": [],
      "source": [
        "import numpy as np\n",
        "\n",
        "array = np.random.randint(1, 4, size=(4, 4))\n",
        "\n",
        "print('Original Array:')\n",
        "print(array)\n",
        "\n",
        "uniqueRows = np.unique(array)\n",
        "print('Unique Rows:')\n",
        "print(uniqueRows)\n"
      ]
    },
    {
      "attachments": {},
      "cell_type": "markdown",
      "id": "89fef2f3",
      "metadata": {
        "id": "89fef2f3"
      },
      "source": [
        "#### 97. Considering 2 vectors A & B, write the einsum equivalent of inner, outer, sum, and mul function (★★★)"
      ]
    },
    {
      "cell_type": "code",
      "execution_count": null,
      "id": "bb9c14b2",
      "metadata": {
        "id": "bb9c14b2"
      },
      "outputs": [],
      "source": [
        "A = np.array([1, 2, 3])\n",
        "B = np.array([4, 5, 6])\n",
        "\n",
        "# Einsum expression for element-wise multiplication\n",
        "inner_product = np.einsum('i,i->', A, B)\n",
        "print(\"Inner Product:\", inner_product)\n",
        "outer_product = np.einsum('i,j->ij', A, B)\n",
        "print(\"Outer Product:\")\n",
        "print(outer_product)\n",
        "elementwise_mul = np.einsum('i,i->i', A, B)\n",
        "print(\"Element-wise Multiplication:\")\n",
        "print(elementwise_mul)"
      ]
    },
    {
      "attachments": {},
      "cell_type": "markdown",
      "id": "7ad5cc5f",
      "metadata": {
        "id": "7ad5cc5f"
      },
      "source": [
        "#### 98. Considering a path described by two vectors (X,Y), how to sample it using equidistant samples (★★★)?"
      ]
    },
    {
      "cell_type": "code",
      "execution_count": null,
      "id": "0899d1d5",
      "metadata": {
        "id": "0899d1d5"
      },
      "outputs": [],
      "source": []
    },
    {
      "attachments": {},
      "cell_type": "markdown",
      "id": "2b69272e",
      "metadata": {
        "id": "2b69272e"
      },
      "source": [
        "#### 99. Given an integer n and a 2D array X, select from X the rows which can be interpreted as draws from a multinomial distribution with n degrees, i.e., the rows which only contain integers and which sum to n. (★★★)"
      ]
    },
    {
      "cell_type": "code",
      "execution_count": null,
      "id": "55c8b034",
      "metadata": {
        "id": "55c8b034"
      },
      "outputs": [],
      "source": []
    },
    {
      "attachments": {},
      "cell_type": "markdown",
      "id": "59ab5516",
      "metadata": {
        "id": "59ab5516"
      },
      "source": [
        "#### 100. Compute bootstrapped 95% confidence intervals for the mean of a 1D array X (i.e., resample the elements of an array with replacement N times, compute the mean of each sample, and then compute percentiles over the means). (★★★)"
      ]
    },
    {
      "cell_type": "code",
      "execution_count": null,
      "id": "450877d8",
      "metadata": {
        "id": "450877d8"
      },
      "outputs": [],
      "source": []
    }
  ],
  "metadata": {
    "colab": {
      "provenance": []
    },
    "kernelspec": {
      "display_name": "Python 3 (ipykernel)",
      "language": "python",
      "name": "python3"
    },
    "language_info": {
      "codemirror_mode": {
        "name": "ipython",
        "version": 3
      },
      "file_extension": ".py",
      "mimetype": "text/x-python",
      "name": "python",
      "nbconvert_exporter": "python",
      "pygments_lexer": "ipython3",
      "version": "3.9.13"
    }
  },
  "nbformat": 4,
  "nbformat_minor": 5
}
