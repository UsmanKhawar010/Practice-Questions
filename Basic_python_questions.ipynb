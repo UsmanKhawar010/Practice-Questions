{
  "nbformat": 4,
  "nbformat_minor": 0,
  "metadata": {
    "colab": {
      "provenance": []
    },
    "kernelspec": {
      "name": "python3",
      "display_name": "Python 3"
    },
    "language_info": {
      "name": "python"
    }
  },
  "cells": [
    {
      "cell_type": "markdown",
      "source": [
        "### BASIC QUESTIONS"
      ],
      "metadata": {
        "id": "MYKXWUKOGeGS"
      }
    },
    {
      "cell_type": "markdown",
      "source": [
        "## Question 1"
      ],
      "metadata": {
        "id": "DBhD4QbtGpHe"
      }
    },
    {
      "cell_type": "code",
      "execution_count": null,
      "metadata": {
        "colab": {
          "base_uri": "https://localhost:8080/"
        },
        "id": "j9rR8mtlGZT0",
        "outputId": "a33a87f5-de38-4a6a-a227-18348ee0081f"
      },
      "outputs": [
        {
          "output_type": "stream",
          "name": "stdout",
          "text": [
            "10+20 = 30\n"
          ]
        }
      ],
      "source": [
        "num1 = 10\n",
        "num2 = 20\n",
        "sum = num1 + num2\n",
        "print(f\"{num1}+{num2} = {sum}\")"
      ]
    },
    {
      "cell_type": "markdown",
      "source": [
        "## Question 2"
      ],
      "metadata": {
        "id": "6CNQKaG6G-od"
      }
    },
    {
      "cell_type": "code",
      "source": [
        "def find_max(a,b):\n",
        "  if a>b:\n",
        "    return f\"{a} is greater than {b}\"\n",
        "  else:\n",
        "    return f\"{b} is greater than {a}\"\n",
        "\n",
        "find_max(10,5)"
      ],
      "metadata": {
        "colab": {
          "base_uri": "https://localhost:8080/",
          "height": 36
        },
        "id": "qaZd92GvG2g8",
        "outputId": "98663502-c5d3-4a71-d989-6e333faf0c0a"
      },
      "execution_count": null,
      "outputs": [
        {
          "output_type": "execute_result",
          "data": {
            "text/plain": [
              "'10 is greater than 5'"
            ],
            "application/vnd.google.colaboratory.intrinsic+json": {
              "type": "string"
            }
          },
          "metadata": {},
          "execution_count": 4
        }
      ]
    },
    {
      "cell_type": "markdown",
      "source": [
        "## Question 3"
      ],
      "metadata": {
        "id": "riPFA-MCHVgv"
      }
    },
    {
      "cell_type": "code",
      "source": [
        "def factorial(number):\n",
        "  return 1 if (number==1 or number==0) else number*factorial(number-1)\n",
        "\n",
        "factorial(5)"
      ],
      "metadata": {
        "colab": {
          "base_uri": "https://localhost:8080/"
        },
        "id": "wusiyUlRHO0C",
        "outputId": "282787c9-79a0-4adc-ad77-ac5043deef85"
      },
      "execution_count": null,
      "outputs": [
        {
          "output_type": "execute_result",
          "data": {
            "text/plain": [
              "120"
            ]
          },
          "metadata": {},
          "execution_count": 6
        }
      ]
    },
    {
      "cell_type": "markdown",
      "source": [
        "## Question 4"
      ],
      "metadata": {
        "id": "jG_PSLWHIGCQ"
      }
    },
    {
      "cell_type": "code",
      "source": [
        "def find_simple_interest(p,t,r):\n",
        "  print(\"the principle amount is \", p)\n",
        "  print(\"Time period is \", t)\n",
        "  print(\"The rate of interest is \", r)\n",
        "  simple_interest = (p*t*r)/100\n",
        "  print(\"The simple interest rate is \", simple_interest)\n",
        "\n",
        "find_simple_interest(9,9,9)"
      ],
      "metadata": {
        "colab": {
          "base_uri": "https://localhost:8080/"
        },
        "id": "wO0zmBgEHRDk",
        "outputId": "314c6b8c-d69e-4abb-95cb-1f0782a74067"
      },
      "execution_count": null,
      "outputs": [
        {
          "output_type": "stream",
          "name": "stdout",
          "text": [
            "the principle amount is  9\n",
            "Time period is  9\n",
            "The rate of interest is  9\n",
            "The simple interest rate is  7.29\n"
          ]
        }
      ]
    },
    {
      "cell_type": "markdown",
      "source": [
        "## Question 5"
      ],
      "metadata": {
        "id": "dP04ltAdIiJU"
      }
    },
    {
      "cell_type": "code",
      "source": [
        "def find_area_circle(r):\n",
        "  pi = 3.14\n",
        "  area = pi * (r**2)\n",
        "  return f\"area of circle is {area}\"\n",
        "find_area_circle(5)"
      ],
      "metadata": {
        "colab": {
          "base_uri": "https://localhost:8080/",
          "height": 36
        },
        "id": "m1znrY6xIgjX",
        "outputId": "52f66ca7-0cc4-4b7c-eab2-14884c01520e"
      },
      "execution_count": null,
      "outputs": [
        {
          "output_type": "execute_result",
          "data": {
            "text/plain": [
              "'area of circle is 78.5'"
            ],
            "application/vnd.google.colaboratory.intrinsic+json": {
              "type": "string"
            }
          },
          "metadata": {},
          "execution_count": 8
        }
      ]
    },
    {
      "cell_type": "markdown",
      "source": [
        "## Question 6"
      ],
      "metadata": {
        "id": "nAl7FxNxJDMl"
      }
    },
    {
      "cell_type": "code",
      "source": [
        "def print_fibo_number(n):\n",
        "  if n<=0:\n",
        "    return f\"Incorrect number\"\n",
        "  elif n==1:\n",
        "    return 0\n",
        "  elif n == 2:\n",
        "    return 1\n",
        "  else:\n",
        "    return print_fibo_number(n-1) + print_fibo_number(n-2)\n",
        "\n",
        "print(print_fibo_number(10))"
      ],
      "metadata": {
        "colab": {
          "base_uri": "https://localhost:8080/"
        },
        "id": "TroFQyfYJAfh",
        "outputId": "47cf7d2e-07d1-4d92-d459-6d4462881a6e"
      },
      "execution_count": null,
      "outputs": [
        {
          "output_type": "stream",
          "name": "stdout",
          "text": [
            "34\n"
          ]
        }
      ]
    },
    {
      "cell_type": "markdown",
      "source": [
        "### Array Programs"
      ],
      "metadata": {
        "id": "BL-xrO2QJ__y"
      }
    },
    {
      "cell_type": "markdown",
      "source": [
        "## Question 1"
      ],
      "metadata": {
        "id": "XRWziUFkKEop"
      }
    },
    {
      "cell_type": "code",
      "source": [
        "import numpy as np\n",
        "def find_sum(arr):\n",
        "  sum = 0\n",
        "  for i in arr:\n",
        "    sum += i\n",
        "  return (sum)\n",
        "\n",
        "array = np.array([1,2,3])\n",
        "find_sum(array)"
      ],
      "metadata": {
        "colab": {
          "base_uri": "https://localhost:8080/"
        },
        "id": "WlHq5-1GJw9z",
        "outputId": "3885e4ba-a706-482d-b360-226de75e10b4"
      },
      "execution_count": null,
      "outputs": [
        {
          "output_type": "execute_result",
          "data": {
            "text/plain": [
              "6"
            ]
          },
          "metadata": {},
          "execution_count": 12
        }
      ]
    },
    {
      "cell_type": "markdown",
      "source": [
        "## Question 2"
      ],
      "metadata": {
        "id": "JWFPJv8-KiP8"
      }
    },
    {
      "cell_type": "code",
      "source": [
        "def find_max(arr):\n",
        "  max = arr[0]\n",
        "\n",
        "  for i in arr:\n",
        "    if i>max:\n",
        "      max = i\n",
        "    else:\n",
        "      max=max\n",
        "  return max\n",
        "\n",
        "array = np.array([1,2,3])\n",
        "find_max(array)"
      ],
      "metadata": {
        "colab": {
          "base_uri": "https://localhost:8080/"
        },
        "id": "lQ2cPM2iKgu_",
        "outputId": "d3f4974a-0ff9-438d-ce5d-b0b3df6ef29a"
      },
      "execution_count": null,
      "outputs": [
        {
          "output_type": "execute_result",
          "data": {
            "text/plain": [
              "3"
            ]
          },
          "metadata": {},
          "execution_count": 13
        }
      ]
    },
    {
      "cell_type": "markdown",
      "source": [
        "## Question 3"
      ],
      "metadata": {
        "id": "60GCuGPJK2Uy"
      }
    },
    {
      "cell_type": "code",
      "source": [
        "def rotation(arr, n, d):\n",
        "    temp = []\n",
        "    i = 0\n",
        "    while (i < d):\n",
        "        temp.append(arr[i])\n",
        "        i = i + 1\n",
        "    i = 0\n",
        "    while (d < n):\n",
        "        arr[i] = arr[d]\n",
        "        i = i + 1\n",
        "        d = d + 1\n",
        "    arr[:] = arr[: i] + temp\n",
        "    return arr\n",
        "\n",
        "arr = [1, 2, 3, 4, 5, 6, 7]\n",
        "print(\"Array after left rotation is: \", end=' ')\n",
        "print(rotation(arr, len(arr), 2))"
      ],
      "metadata": {
        "colab": {
          "base_uri": "https://localhost:8080/"
        },
        "id": "60UCUqE4K1Aq",
        "outputId": "ef9905b4-c7a3-424c-a32e-ab7ade0fb177"
      },
      "execution_count": null,
      "outputs": [
        {
          "output_type": "stream",
          "name": "stdout",
          "text": [
            "Array after left rotation is:  [3, 4, 5, 6, 7, 1, 2]\n"
          ]
        }
      ]
    },
    {
      "cell_type": "markdown",
      "source": [
        "## Question 4"
      ],
      "metadata": {
        "id": "eWIdktUOM0kr"
      }
    },
    {
      "cell_type": "code",
      "source": [
        "def is_monotonic(arr):\n",
        "  x=[]\n",
        "  y=[]\n",
        "  x.extend(arr)\n",
        "  y.extend(arr)\n",
        "  x.sort()\n",
        "  y.sort(reverse=True)\n",
        "\n",
        "  if (x==arr or y==arr):\n",
        "    return True\n",
        "  else:\n",
        "    return False\n",
        "\n",
        "A = [6, 5, 4, 4]\n",
        "\n",
        "# Print required result\n",
        "print(is_monotonic(A))\n"
      ],
      "metadata": {
        "colab": {
          "base_uri": "https://localhost:8080/"
        },
        "id": "vOmxyvWAMYZM",
        "outputId": "449f118e-612e-48b3-8f5d-75548d7e58ff"
      },
      "execution_count": null,
      "outputs": [
        {
          "output_type": "stream",
          "name": "stdout",
          "text": [
            "True\n"
          ]
        }
      ]
    },
    {
      "cell_type": "markdown",
      "source": [
        "## Question 5"
      ],
      "metadata": {
        "id": "RJKhNA7vN2Eb"
      }
    },
    {
      "cell_type": "code",
      "source": [
        "from functools import reduce\n",
        "\n",
        "def find_reminder(arr,n):\n",
        "  sum = reduce(lambda x,y: x*y, arr)\n",
        "  reminder = sum % n\n",
        "  return reminder\n",
        "arr = [100, 10, 5, 25, 35, 14]\n",
        "n = 11\n",
        "find_reminder(arr, n)"
      ],
      "metadata": {
        "colab": {
          "base_uri": "https://localhost:8080/"
        },
        "id": "6AD5oc-aNy8H",
        "outputId": "0b9788d2-94e1-4b2f-c0b6-6b344b08b2d8"
      },
      "execution_count": null,
      "outputs": [
        {
          "output_type": "execute_result",
          "data": {
            "text/plain": [
              "9"
            ]
          },
          "metadata": {},
          "execution_count": 21
        }
      ]
    },
    {
      "cell_type": "markdown",
      "source": [
        "### List Programs"
      ],
      "metadata": {
        "id": "hhCmeMKiPGvX"
      }
    },
    {
      "cell_type": "markdown",
      "source": [
        "## Question 1"
      ],
      "metadata": {
        "id": "EnekRFeLPJtL"
      }
    },
    {
      "cell_type": "code",
      "source": [
        "def swap_first_last(arr):\n",
        "  size = len(arr)\n",
        "  temp = arr[0]\n",
        "  arr[0] =  arr[size-1]\n",
        "  arr[-1] = temp\n",
        "  return arr\n",
        "\n",
        "newList = [12, 35, 9, 56, 24]\n",
        "swap_first_last(newList)"
      ],
      "metadata": {
        "colab": {
          "base_uri": "https://localhost:8080/"
        },
        "id": "ltaTVe_ZPCRK",
        "outputId": "173c4946-0ada-4c7c-fe25-5d01ef1ad535"
      },
      "execution_count": null,
      "outputs": [
        {
          "output_type": "execute_result",
          "data": {
            "text/plain": [
              "[24, 35, 9, 56, 12]"
            ]
          },
          "metadata": {},
          "execution_count": 26
        }
      ]
    },
    {
      "cell_type": "markdown",
      "source": [
        "## Question 2"
      ],
      "metadata": {
        "id": "uXnKZ5GVQgwz"
      }
    },
    {
      "cell_type": "code",
      "source": [
        "def find_length(arr):\n",
        "  counter = 0\n",
        "\n",
        "  for i in arr:\n",
        "    counter += 1\n",
        "  return f\"length of array is {counter}\"\n",
        "test_list = [1, 4, 5, 7, 8]\n",
        "find_length(test_list)"
      ],
      "metadata": {
        "colab": {
          "base_uri": "https://localhost:8080/",
          "height": 36
        },
        "id": "kPRRviWhPmOp",
        "outputId": "e9898327-7aef-4265-9427-9434bbfe2bae"
      },
      "execution_count": null,
      "outputs": [
        {
          "output_type": "execute_result",
          "data": {
            "text/plain": [
              "'length of array is 5'"
            ],
            "application/vnd.google.colaboratory.intrinsic+json": {
              "type": "string"
            }
          },
          "metadata": {},
          "execution_count": 27
        }
      ]
    },
    {
      "cell_type": "markdown",
      "source": [
        "## Question 3"
      ],
      "metadata": {
        "id": "Z1-7pleWQ4nd"
      }
    },
    {
      "cell_type": "code",
      "source": [
        "def find_sum(arr):\n",
        "  sum=0\n",
        "  for i in arr:\n",
        "    sum += i\n",
        "  return f\"Sum of array elements is {sum}\"\n",
        "test_list = [1, 4, 5, 7, 8]\n",
        "find_sum(test_list)"
      ],
      "metadata": {
        "colab": {
          "base_uri": "https://localhost:8080/",
          "height": 36
        },
        "id": "-PEsMo5oQ2QM",
        "outputId": "fcf2ddd9-d317-49f4-fbf9-0c1864267cfb"
      },
      "execution_count": null,
      "outputs": [
        {
          "output_type": "execute_result",
          "data": {
            "text/plain": [
              "'Sum of array elements is 25'"
            ],
            "application/vnd.google.colaboratory.intrinsic+json": {
              "type": "string"
            }
          },
          "metadata": {},
          "execution_count": 28
        }
      ]
    },
    {
      "cell_type": "markdown",
      "source": [
        "## Question 4"
      ],
      "metadata": {
        "id": "Ot2g0ROXRPQJ"
      }
    },
    {
      "cell_type": "code",
      "source": [
        "def multiply(arr):\n",
        "  mul = 1\n",
        "  for i in arr:\n",
        "    mul = mul* i\n",
        "  return f\"Multiplied array is {mul}\"\n",
        "\n",
        "test_list = [4, 4]\n",
        "multiply(test_list)"
      ],
      "metadata": {
        "colab": {
          "base_uri": "https://localhost:8080/",
          "height": 36
        },
        "id": "3q7k8TU9RLZv",
        "outputId": "b40b76ab-8d3d-4320-f68e-82917458bbd4"
      },
      "execution_count": null,
      "outputs": [
        {
          "output_type": "execute_result",
          "data": {
            "text/plain": [
              "'Multiplied array is 16'"
            ],
            "application/vnd.google.colaboratory.intrinsic+json": {
              "type": "string"
            }
          },
          "metadata": {},
          "execution_count": 30
        }
      ]
    },
    {
      "cell_type": "markdown",
      "source": [
        "## Question 5"
      ],
      "metadata": {
        "id": "5msNnJi4Rjvo"
      }
    },
    {
      "cell_type": "code",
      "source": [
        "def print_even(start,end):\n",
        "  temp=[]\n",
        "  for i in range(start,end+1):\n",
        "    if i %2 == 0:\n",
        "      temp.append(i)\n",
        "  return f\"Even numbers are {temp}\"\n",
        "print_even(10,100)"
      ],
      "metadata": {
        "colab": {
          "base_uri": "https://localhost:8080/",
          "height": 54
        },
        "id": "wjlvrKxeRhso",
        "outputId": "ee8cc382-0acc-494a-8c2d-fc0bdd06ecdc"
      },
      "execution_count": null,
      "outputs": [
        {
          "output_type": "execute_result",
          "data": {
            "text/plain": [
              "'Even numbers are [10, 12, 14, 16, 18, 20, 22, 24, 26, 28, 30, 32, 34, 36, 38, 40, 42, 44, 46, 48, 50, 52, 54, 56, 58, 60, 62, 64, 66, 68, 70, 72, 74, 76, 78, 80, 82, 84, 86, 88, 90, 92, 94, 96, 98, 100]'"
            ],
            "application/vnd.google.colaboratory.intrinsic+json": {
              "type": "string"
            }
          },
          "metadata": {},
          "execution_count": 31
        }
      ]
    },
    {
      "cell_type": "markdown",
      "source": [
        "## Question 6"
      ],
      "metadata": {
        "id": "VyGA-Qphhti4"
      }
    },
    {
      "cell_type": "code",
      "source": [
        "def find_int_sum(array):\n",
        "  res = []\n",
        "  for ele in test_list:\n",
        "      sum = 0\n",
        "      for digit in str(ele):\n",
        "          sum += int(digit)\n",
        "      res.append(sum)\n",
        "  return res\n",
        "\n",
        "test_list = [12, 67, 98, 34]\n",
        "\n",
        "find_int_sum(test_list)"
      ],
      "metadata": {
        "colab": {
          "base_uri": "https://localhost:8080/"
        },
        "id": "r8tfSOIyh2rX",
        "outputId": "11eeca94-09df-4d5b-e6dc-4913cc91f4a5"
      },
      "execution_count": null,
      "outputs": [
        {
          "output_type": "execute_result",
          "data": {
            "text/plain": [
              "[3, 13, 17, 7]"
            ]
          },
          "metadata": {},
          "execution_count": 45
        }
      ]
    },
    {
      "cell_type": "markdown",
      "source": [
        "## Question 7"
      ],
      "metadata": {
        "id": "NRNNuHNeiuFY"
      }
    },
    {
      "cell_type": "code",
      "source": [
        "def partition(array,n):\n",
        "  for i in range(0,len(array),n):\n",
        "    yield array[i:i+n]\n",
        "\n",
        "\n",
        "my_list = ['geeks', 'for', 'geeks', 'like',\n",
        "           'geeky','nerdy', 'geek', 'love',\n",
        "               'questions','words', 'life']\n",
        "\n",
        "n = 5\n",
        "\n",
        "x = list(partition(my_list, n))\n",
        "print(x)"
      ],
      "metadata": {
        "colab": {
          "base_uri": "https://localhost:8080/"
        },
        "id": "F0Kji1H2iwNV",
        "outputId": "f4c638a5-fc17-4716-a968-62b327c5c0fc"
      },
      "execution_count": null,
      "outputs": [
        {
          "output_type": "stream",
          "name": "stdout",
          "text": [
            "[['geeks', 'for', 'geeks', 'like', 'geeky'], ['nerdy', 'geek', 'love', 'questions', 'words'], ['life']]\n"
          ]
        }
      ]
    },
    {
      "cell_type": "markdown",
      "source": [
        "### Matrix Programs"
      ],
      "metadata": {
        "id": "xDrhxgOzSCh3"
      }
    },
    {
      "cell_type": "markdown",
      "source": [
        "## Question 1"
      ],
      "metadata": {
        "id": "dE9iBRU2SHT6"
      }
    },
    {
      "cell_type": "code",
      "source": [
        "mat1 = [[1,2,3],[4,5,6],[7,8,9]]\n",
        "mat2 = [[1,2,3],[4,5,6],[7,8,9]]\n",
        "result = [[0,0,0],[0,0,0],[0,0,0]]\n",
        "for i in range(len(mat1)):\n",
        "  for j in range(len(mat1[0])):\n",
        "    result[i][j] = mat1[i][j] + mat2[i][j]\n",
        "\n",
        "print(result)"
      ],
      "metadata": {
        "colab": {
          "base_uri": "https://localhost:8080/"
        },
        "id": "JF1Id_CJR_pv",
        "outputId": "4d068330-2530-4738-92e1-1c2d18d01ca1"
      },
      "execution_count": null,
      "outputs": [
        {
          "output_type": "stream",
          "name": "stdout",
          "text": [
            "[[2, 4, 6], [8, 10, 12], [14, 16, 18]]\n"
          ]
        }
      ]
    },
    {
      "cell_type": "markdown",
      "source": [
        "## Question 2"
      ],
      "metadata": {
        "id": "GXU_GJDETcTj"
      }
    },
    {
      "cell_type": "code",
      "source": [
        "import random\n",
        "\n",
        "# Function to create a random matrix of size (rows, cols)\n",
        "def create_random_matrix(rows, cols):\n",
        "    return [[random.randint(1, 10) for _ in range(cols)] for _ in range(rows)]\n",
        "\n",
        "# Define the size of the matrices\n",
        "rows = 4\n",
        "cols = 4\n",
        "\n",
        "# Create random matrices\n",
        "mat1 = create_random_matrix(rows, cols)\n",
        "mat2 = create_random_matrix(rows, cols)\n",
        "\n",
        "# Create the result matrix filled with zeros\n",
        "result = [[0 for _ in range(cols)] for _ in range(rows)]\n",
        "\n",
        "# Perform element-wise multiplication\n",
        "for i in range(rows):\n",
        "    for j in range(cols):\n",
        "        result[i][j] = mat1[i][j] * mat2[i][j]\n",
        "\n",
        "# Print the result\n",
        "print(result)\n"
      ],
      "metadata": {
        "colab": {
          "base_uri": "https://localhost:8080/"
        },
        "id": "LQFUNc_TTZvo",
        "outputId": "2eb1dea6-39d0-4285-d189-988056d3c93d"
      },
      "execution_count": null,
      "outputs": [
        {
          "output_type": "stream",
          "name": "stdout",
          "text": [
            "[[40, 90, 6, 10], [80, 14, 54, 60], [30, 70, 18, 25], [14, 54, 45, 72]]\n"
          ]
        }
      ]
    },
    {
      "cell_type": "markdown",
      "source": [
        "## Question 3"
      ],
      "metadata": {
        "id": "exXSYOa2T__-"
      }
    },
    {
      "cell_type": "code",
      "source": [
        "def product(mat):\n",
        "  mul = 1\n",
        "  for  i in arr:\n",
        "    mul = mul*i\n",
        "  return f\"Multiplication of matrix is {mul}\"\n",
        "\n",
        "mat1 = [[1,2,3],[4,5,6],[7,8,9]]\n",
        "product(mat1)"
      ],
      "metadata": {
        "colab": {
          "base_uri": "https://localhost:8080/",
          "height": 36
        },
        "id": "1hGQC1jMTqFD",
        "outputId": "e959a1a9-8bad-488a-910a-70358deb554a"
      },
      "execution_count": null,
      "outputs": [
        {
          "output_type": "execute_result",
          "data": {
            "text/plain": [
              "'Multiplication of matrix is 61250000'"
            ],
            "application/vnd.google.colaboratory.intrinsic+json": {
              "type": "string"
            }
          },
          "metadata": {},
          "execution_count": 34
        }
      ]
    },
    {
      "cell_type": "markdown",
      "source": [
        "## Question 4"
      ],
      "metadata": {
        "id": "1FrX88FAUZ2H"
      }
    },
    {
      "cell_type": "code",
      "source": [
        "def transpose(mat):\n",
        "  transpose = [[mat[j][i] for j in range (len(mat))]for i in range(len(mat[0]))]\n",
        "  return transpose\n",
        "\n",
        "mat1 = [[1,2,3],\n",
        "        [4,5,6],\n",
        "        [7,8,9]]\n",
        "transpose(mat1)"
      ],
      "metadata": {
        "colab": {
          "base_uri": "https://localhost:8080/"
        },
        "id": "RWbmj7FDUXo7",
        "outputId": "cea3c6c0-9f7d-4586-f700-46f2d8321d4e"
      },
      "execution_count": null,
      "outputs": [
        {
          "output_type": "execute_result",
          "data": {
            "text/plain": [
              "[[1, 4, 7], [2, 5, 8], [3, 6, 9]]"
            ]
          },
          "metadata": {},
          "execution_count": 35
        }
      ]
    },
    {
      "cell_type": "markdown",
      "source": [
        "## Question 5"
      ],
      "metadata": {
        "id": "za7yta4KVxox"
      }
    },
    {
      "cell_type": "code",
      "source": [
        "test_list = [[4, 5, 6], [8, 1, 10], [7, 12, 5]]\n",
        "k = 3\n",
        "num_of_columns = len(test_list[0])\n",
        "\n",
        "if k <= num_of_columns:\n",
        "    res = [sub[k - 1] for sub in test_list]\n",
        "    print(res)\n",
        "else:\n",
        "    print(\"Out of bound columns\")\n"
      ],
      "metadata": {
        "colab": {
          "base_uri": "https://localhost:8080/"
        },
        "id": "zSgkXCiOVYp7",
        "outputId": "b16934ee-a5da-40a6-e4eb-0b68cd5592ad"
      },
      "execution_count": null,
      "outputs": [
        {
          "output_type": "stream",
          "name": "stdout",
          "text": [
            "[6, 10, 5]\n"
          ]
        }
      ]
    },
    {
      "cell_type": "markdown",
      "source": [
        "## Question 6"
      ],
      "metadata": {
        "id": "q5TssjZikLBY"
      }
    },
    {
      "cell_type": "code",
      "source": [
        "from itertools import zip_longest\n",
        "\n",
        "# initializing lists\n",
        "test_list = [[\"Gfg\", \"good\"], [\"is\", \"for\"], [\"Best\"]]\n",
        "\n",
        "res = [\"\".join(ele) for ele in zip_longest(*test_list,fillvalue=\"\")]\n",
        "print(res)"
      ],
      "metadata": {
        "colab": {
          "base_uri": "https://localhost:8080/"
        },
        "id": "s--3_IpxWRgU",
        "outputId": "210d25b2-1f39-4a7a-f981-a018ed9f3023"
      },
      "execution_count": null,
      "outputs": [
        {
          "output_type": "stream",
          "name": "stdout",
          "text": [
            "['GfgisBest', 'goodfor']\n"
          ]
        }
      ]
    },
    {
      "cell_type": "markdown",
      "source": [
        "### String Problems"
      ],
      "metadata": {
        "id": "MJG4apA3ltBR"
      }
    },
    {
      "cell_type": "markdown",
      "source": [
        "## Question 1"
      ],
      "metadata": {
        "id": "BG8-DqZflvMl"
      }
    },
    {
      "cell_type": "code",
      "source": [
        "def split(string):\n",
        "  split_list = string.split(' ')\n",
        "  return split_list\n",
        "\n",
        "def join_string(string):\n",
        "  new_list = \"-\".join(string)\n",
        "  return new_list\n",
        "\n",
        "string = \"geek for geeks\"\n",
        "split_list  = split(string)\n",
        "print(split_list)\n",
        "\n",
        "new_list = join_string(split_list)\n",
        "print(new_list)"
      ],
      "metadata": {
        "colab": {
          "base_uri": "https://localhost:8080/"
        },
        "id": "RkiJg1FWlkdF",
        "outputId": "70dcefce-939d-4525-bd4a-71ce64634faa"
      },
      "execution_count": null,
      "outputs": [
        {
          "output_type": "stream",
          "name": "stdout",
          "text": [
            "['geek', 'for', 'geeks']\n",
            "geek-for-geeks\n"
          ]
        }
      ]
    },
    {
      "cell_type": "markdown",
      "source": [
        "## Question 2"
      ],
      "metadata": {
        "id": "RKi1tL8rmyD-"
      }
    },
    {
      "cell_type": "code",
      "source": [
        "def binary(string):\n",
        "  count = 0\n",
        "  for ele in string:\n",
        "    t = '01'\n",
        "    if ele not in t:\n",
        "      count += 1\n",
        "    else:\n",
        "      count = 0\n",
        "\n",
        "  if count:\n",
        "    return f\"Not a binary\"\n",
        "  else:\n",
        "    return f\"Binary string\"\n",
        "\n",
        "string = \"01001\"\n",
        "binary(string)"
      ],
      "metadata": {
        "colab": {
          "base_uri": "https://localhost:8080/",
          "height": 36
        },
        "id": "ICqq95BUmqxt",
        "outputId": "44db9a16-913a-45a1-ab12-55947a85d9b8"
      },
      "execution_count": null,
      "outputs": [
        {
          "output_type": "execute_result",
          "data": {
            "text/plain": [
              "'Binary string'"
            ],
            "application/vnd.google.colaboratory.intrinsic+json": {
              "type": "string"
            }
          },
          "metadata": {},
          "execution_count": 56
        }
      ]
    },
    {
      "cell_type": "markdown",
      "source": [
        "### Dictionary Problems"
      ],
      "metadata": {
        "id": "kW4ouIRHuCpH"
      }
    },
    {
      "cell_type": "markdown",
      "source": [
        "## Question 1"
      ],
      "metadata": {
        "id": "g9zqz6nrunPk"
      }
    },
    {
      "cell_type": "code",
      "source": [
        "\n",
        "def Convert(tup, di):\n",
        "    for a, b in tup:\n",
        "        di.setdefault(a, []).append(b)\n",
        "    return di\n",
        "\n",
        "tups = [(\"akash\", 10), (\"gaurav\", 12), (\"anand\", 14),\n",
        "        (\"suraj\", 20), (\"akhil\", 25), (\"ashish\", 30)]\n",
        "dictionary = {}\n",
        "print(Convert(tups, dictionary))"
      ],
      "metadata": {
        "colab": {
          "base_uri": "https://localhost:8080/"
        },
        "id": "hr-u1jyQnUUj",
        "outputId": "998d7ef2-9e4d-42ea-d26a-a4b63adad07a"
      },
      "execution_count": null,
      "outputs": [
        {
          "output_type": "stream",
          "name": "stdout",
          "text": [
            "{'akash': [10], 'gaurav': [12], 'anand': [14], 'suraj': [20], 'akhil': [25], 'ashish': [30]}\n"
          ]
        }
      ]
    },
    {
      "cell_type": "markdown",
      "source": [
        "## Question 2"
      ],
      "metadata": {
        "id": "KAIxBUK1AL6r"
      }
    },
    {
      "cell_type": "code",
      "source": [
        "test_dict = {'gfg': [5, 6, 7, 8],\n",
        "             'is': [10, 11, 7, 5],\n",
        "             'best': [6, 12, 10, 8],\n",
        "             'for': [1, 2, 5]}\n",
        "\n",
        "res = list(sorted({ele for element in test_dict.values()for ele in element}))\n",
        "print(res)"
      ],
      "metadata": {
        "colab": {
          "base_uri": "https://localhost:8080/"
        },
        "id": "eZCDgzMFANft",
        "outputId": "0fb9e2f6-7da9-41fb-b6ec-f8ec1cb5a880"
      },
      "execution_count": null,
      "outputs": [
        {
          "output_type": "stream",
          "name": "stdout",
          "text": [
            "[1, 2, 5, 6, 7, 8, 10, 11, 12]\n"
          ]
        }
      ]
    },
    {
      "cell_type": "markdown",
      "source": [
        "## Question 3"
      ],
      "metadata": {
        "id": "uEQHYhvzBlm7"
      }
    },
    {
      "cell_type": "code",
      "source": [
        "def returnSum(dict):\n",
        "\n",
        "    sum = 0\n",
        "    for i in dict.values():\n",
        "        sum = sum + i\n",
        "\n",
        "    return sum\n",
        "\n",
        "dict = {'a': 100, 'b': 200, 'c': 300}\n",
        "print(\"Sum :\", returnSum(dict))\n"
      ],
      "metadata": {
        "colab": {
          "base_uri": "https://localhost:8080/"
        },
        "id": "UWKAu2tzBn44",
        "outputId": "76b4efb1-d3ff-4544-d2d1-a1dd6b997cb7"
      },
      "execution_count": null,
      "outputs": [
        {
          "output_type": "stream",
          "name": "stdout",
          "text": [
            "Sum : 600\n"
          ]
        }
      ]
    },
    {
      "cell_type": "markdown",
      "source": [
        "### Searching and Sorting Problemc"
      ],
      "metadata": {
        "id": "aKVcIyWzvDuj"
      }
    },
    {
      "cell_type": "markdown",
      "source": [
        "## Question 1"
      ],
      "metadata": {
        "id": "IAzdga1AwQbB"
      }
    },
    {
      "cell_type": "code",
      "source": [
        "def bubble_sort(arr):\n",
        "  n= len(arr)\n",
        "  swapped = False\n",
        "  for i in range(0,n):\n",
        "    for j in range(0,n-i-1):\n",
        "      if arr[j]>= arr[j+1]:\n",
        "        swapped = True\n",
        "        arr[j],arr[j+1] = arr[j+1], arr[j]\n",
        "    if not swapped:\n",
        "      return\n",
        "\n",
        "arr = [64, 34, 25, 12, 22, 11, 90]\n",
        "\n",
        "bubble_sort(arr)\n",
        "print(\"Sorted array is:\")\n",
        "for i in range(len(arr)):\n",
        "    print(\"% d\" % arr[i], end=\" \")"
      ],
      "metadata": {
        "colab": {
          "base_uri": "https://localhost:8080/"
        },
        "id": "wytbp7Y8uqlg",
        "outputId": "6bea5aad-1927-4d7b-9537-bf1f937be09f"
      },
      "execution_count": null,
      "outputs": [
        {
          "output_type": "stream",
          "name": "stdout",
          "text": [
            "Sorted array is:\n",
            " 11  12  22  25  34  64  90 "
          ]
        }
      ]
    },
    {
      "cell_type": "markdown",
      "source": [
        "## Question 2"
      ],
      "metadata": {
        "id": "4NWzXwtox_yr"
      }
    },
    {
      "cell_type": "code",
      "source": [
        "def merge_sort(arr):\n",
        "   #incase there's single array element\n",
        "    if len(arr) <= 1:\n",
        "        return arr\n",
        "\n",
        "    # Divide the array into two halves.\n",
        "    mid = len(arr) // 2\n",
        "    left_half = arr[:mid]\n",
        "    right_half = arr[mid:]\n",
        "\n",
        "    # performing the recursive operation\n",
        "    left_half = merge_sort(left_half)\n",
        "    right_half = merge_sort(right_half)\n",
        "\n",
        "    # Merge the two sorted halves.\n",
        "    return merge(left_half, right_half)\n",
        "\n",
        "def merge(left, right):\n",
        "    merged = []\n",
        "    left_index, right_index = 0, 0\n",
        "\n",
        "    #checking both elements of both halves.\n",
        "    while left_index < len(left) and right_index < len(right):\n",
        "        if left[left_index] < right[right_index]:\n",
        "            merged.append(left[left_index])\n",
        "            left_index += 1\n",
        "        else:\n",
        "            merged.append(right[right_index])\n",
        "            right_index += 1\n",
        "\n",
        "    merged.extend(left[left_index:])\n",
        "    merged.extend(right[right_index:])\n",
        "\n",
        "    return merged\n",
        "\n",
        "arr = [38, 27, 43, 3, 9, 82, 10]\n",
        "sorted_arr = merge_sort(arr)\n",
        "print(sorted_arr)"
      ],
      "metadata": {
        "colab": {
          "base_uri": "https://localhost:8080/"
        },
        "id": "AzBw9M45w-YE",
        "outputId": "e70c988e-1c44-4fc0-a577-083cb946c8aa"
      },
      "execution_count": null,
      "outputs": [
        {
          "output_type": "stream",
          "name": "stdout",
          "text": [
            "[3, 9, 10, 27, 38, 43, 82]\n"
          ]
        }
      ]
    },
    {
      "cell_type": "markdown",
      "source": [
        "### Tuple Problems"
      ],
      "metadata": {
        "id": "tybBQFte6tQ8"
      }
    },
    {
      "cell_type": "markdown",
      "source": [
        "## Question 1"
      ],
      "metadata": {
        "id": "y3CNYoGn6u1F"
      }
    },
    {
      "cell_type": "code",
      "source": [
        "# sample Tuples\n",
        "Tuple1 = (\"A\", 1, \"B\", 2, \"C\", 3)\n",
        "\n",
        "print(\"Size of Tuple1: \" + str(Tuple1.__sizeof__()) + \"bytes\")"
      ],
      "metadata": {
        "colab": {
          "base_uri": "https://localhost:8080/"
        },
        "id": "_aujCGOn6wfb",
        "outputId": "56a10f35-b00d-4b69-eac0-b303d708e024"
      },
      "execution_count": null,
      "outputs": [
        {
          "output_type": "stream",
          "name": "stdout",
          "text": [
            "Size of Tuple1: 72bytes\n"
          ]
        }
      ]
    },
    {
      "cell_type": "markdown",
      "source": [
        "## Question 2"
      ],
      "metadata": {
        "id": "dRJ_Mp9069SF"
      }
    },
    {
      "cell_type": "code",
      "source": [
        "from itertools import chain\n",
        "\n",
        "test_list = [(15, 3), (3, 9), (1, 10), (99, 2)]\n",
        "\n",
        "print(\"The original list is : \" + str(test_list))\n",
        "temp = map(lambda ele: str(ele), chain.from_iterable(test_list)) # this function is flattening and comverting each number into separate digit.\n",
        "res = set()\n",
        "for sub in temp:\n",
        "    for ele in sub:\n",
        "        res.add(ele) # adding all separate elements in another list.\n",
        "\n",
        "# printing result\n",
        "print(\"The extracted digits : \" + str(res))"
      ],
      "metadata": {
        "colab": {
          "base_uri": "https://localhost:8080/"
        },
        "id": "ym4MQY6v6-gR",
        "outputId": "1a60840a-340f-4c8a-9fb0-120d58f95df3"
      },
      "execution_count": null,
      "outputs": [
        {
          "output_type": "stream",
          "name": "stdout",
          "text": [
            "The original list is : [(15, 3), (3, 9), (1, 10), (99, 2)]\n",
            "The extracted digits : {'3', '5', '9', '2', '1', '0'}\n"
          ]
        }
      ]
    },
    {
      "cell_type": "markdown",
      "source": [
        "## Question 3"
      ],
      "metadata": {
        "id": "Aj25jepj8g0e"
      }
    },
    {
      "cell_type": "code",
      "source": [
        "from itertools import chain\n",
        "test_tuple = ([5, 6], [6, 7, 8, 9], [3])\n",
        "print(\"The original tuple : \" + str(test_tuple))\n",
        "res = tuple(chain.from_iterable(test_tuple))\n",
        "print(\"The flattened tuple : \" + str(res))\n"
      ],
      "metadata": {
        "colab": {
          "base_uri": "https://localhost:8080/"
        },
        "id": "0SxPPK6t8iNd",
        "outputId": "e63ebce4-1976-42a7-d40a-98523804fd08"
      },
      "execution_count": null,
      "outputs": [
        {
          "output_type": "stream",
          "name": "stdout",
          "text": [
            "The original tuple : ([5, 6], [6, 7, 8, 9], [3])\n",
            "The flattened tuple : (5, 6, 6, 7, 8, 9, 3)\n"
          ]
        }
      ]
    },
    {
      "cell_type": "markdown",
      "source": [
        "## Question 4"
      ],
      "metadata": {
        "id": "FNHhoTYD9FA6"
      }
    },
    {
      "cell_type": "code",
      "source": [
        "def sort(tup):\n",
        "  l = len(tup)\n",
        "  for i in range(0, l):\n",
        "    for j in range(0, l-i-1):\n",
        "      if tup[j][1] > tup[j+1][1]:\n",
        "        temp = tup[j]\n",
        "        tup[j] = tup[j + 1]\n",
        "        tup[j + 1] = temp\n",
        "  return tup\n",
        "\n",
        "tup = [('for', 24), ('is', 10), ('Geeks', 28),\n",
        "       ('Geeksforgeeks', 5), ('portal', 20), ('a', 15)]\n",
        "\n",
        "print(sort(tup))\n"
      ],
      "metadata": {
        "colab": {
          "base_uri": "https://localhost:8080/"
        },
        "id": "hx2bT1U89HYt",
        "outputId": "acfd672f-9a20-4955-f2ca-8b906bff2bc2"
      },
      "execution_count": null,
      "outputs": [
        {
          "output_type": "stream",
          "name": "stdout",
          "text": [
            "[('Geeksforgeeks', 5), ('is', 10), ('a', 15), ('portal', 20), ('for', 24), ('Geeks', 28)]\n"
          ]
        }
      ]
    },
    {
      "cell_type": "markdown",
      "source": [
        "## Question 5"
      ],
      "metadata": {
        "id": "euhUh70S-f3y"
      }
    },
    {
      "cell_type": "code",
      "source": [
        "# this code simply converts a given tuple keys into their cube and combine it with them.\n",
        "list1 = [1, 2, 5, 6]\n",
        "res = [(val, pow(val, 3)) for val in list1]\n",
        "print(res)\n"
      ],
      "metadata": {
        "colab": {
          "base_uri": "https://localhost:8080/"
        },
        "id": "20zIGPTK-h9c",
        "outputId": "a853c1e3-d8c6-42a3-f385-8f55aa701997"
      },
      "execution_count": null,
      "outputs": [
        {
          "output_type": "stream",
          "name": "stdout",
          "text": [
            "[(1, 1), (2, 8), (5, 125), (6, 216)]\n"
          ]
        }
      ]
    },
    {
      "cell_type": "markdown",
      "source": [
        "## Question 6"
      ],
      "metadata": {
        "id": "qZKOUOFp-2Jp"
      }
    },
    {
      "cell_type": "code",
      "source": [
        "\n",
        "test_list = [(4, 5), (4, ), (8, 6, 7), (1, ), (3, 4, 6, 7)]\n",
        "print(\"The original list : \" + str(test_list))\n",
        "\n",
        "K = np.random.randint(0,len(test_list))\n",
        "print(K)\n",
        "res = [ele for ele in test_list if len(ele) != K]\n",
        "print(\"Filtered list : \" + str(res))\n",
        "\n"
      ],
      "metadata": {
        "colab": {
          "base_uri": "https://localhost:8080/"
        },
        "id": "QDl7rmtq-4VP",
        "outputId": "a722d790-589c-4946-9188-b066d13b6ef5"
      },
      "execution_count": null,
      "outputs": [
        {
          "output_type": "stream",
          "name": "stdout",
          "text": [
            "The original list : [(4, 5), (4,), (8, 6, 7), (1,), (3, 4, 6, 7)]\n",
            "4\n",
            "Filtered list : [(4, 5), (4,), (8, 6, 7), (1,)]\n"
          ]
        }
      ]
    },
    {
      "cell_type": "markdown",
      "source": [
        "## Question 7"
      ],
      "metadata": {
        "id": "wlcHWPA1_jO4"
      }
    },
    {
      "cell_type": "code",
      "source": [
        "test_list = [5, 6, 7]\n",
        "\n",
        "print(\"The original list is : \" + str(test_list))\n",
        "\n",
        "test_tup = (9, 10)\n",
        "\n",
        "test_list += test_tup\n",
        "print(\"The container after addition : \" + str(test_list))"
      ],
      "metadata": {
        "colab": {
          "base_uri": "https://localhost:8080/"
        },
        "id": "gtnlc6l__lfd",
        "outputId": "4c612c87-6394-4245-9ee6-7836aa771188"
      },
      "execution_count": null,
      "outputs": [
        {
          "output_type": "stream",
          "name": "stdout",
          "text": [
            "The original list is : [5, 6, 7]\n",
            "The container after addition : [5, 6, 7, 9, 10]\n"
          ]
        }
      ]
    },
    {
      "cell_type": "markdown",
      "source": [
        "## Pattern problems"
      ],
      "metadata": {
        "id": "sRZQ6fGZzV1X"
      }
    },
    {
      "cell_type": "markdown",
      "source": [
        "## Question 1"
      ],
      "metadata": {
        "id": "TlqhJzdd00Cd"
      }
    },
    {
      "cell_type": "code",
      "source": [
        "number = 11\n",
        "for i in range(number,0,-1):\n",
        "  print((n-i) * '' + i * '*')"
      ],
      "metadata": {
        "colab": {
          "base_uri": "https://localhost:8080/"
        },
        "id": "a9ayLgvMyEbR",
        "outputId": "c4b992a3-2f56-45ae-f552-2e42ef32d432"
      },
      "execution_count": null,
      "outputs": [
        {
          "output_type": "stream",
          "name": "stdout",
          "text": [
            "***********\n",
            "**********\n",
            "*********\n",
            "********\n",
            "*******\n",
            "******\n",
            "*****\n",
            "****\n",
            "***\n",
            "**\n",
            "*\n"
          ]
        }
      ]
    },
    {
      "cell_type": "markdown",
      "source": [
        "## Question 2"
      ],
      "metadata": {
        "id": "aUiQBLAa2-2a"
      }
    },
    {
      "cell_type": "code",
      "source": [
        "def pattern(n):\n",
        "\n",
        "\t#loop iteartes till the range of number given\n",
        "\tfor i in range(1,n+1):\n",
        "\n",
        "\n",
        "\t\tk =i + 1 if(i % 2 != 0) else i\n",
        "\n",
        "\t\t# for loop for printing spaces\n",
        "\t\tfor g in range(k,n):\n",
        "\t\t\tif g>=k:\n",
        "\t\t\t\tprint(end=\" \")\n",
        "\n",
        "\t\t# according to value of k carry\n",
        "\t\t# out further operation\n",
        "\t\tfor j in range(0,k):\n",
        "\t\t\tif j == k - 1:\n",
        "\t\t\t\tprint(\"*\")\n",
        "\t\t\telse:\n",
        "\t\t\t\tprint(\"*\", end = \" \")\n",
        "\n",
        "\n",
        "n = 2\n",
        "pattern(n)\n"
      ],
      "metadata": {
        "colab": {
          "base_uri": "https://localhost:8080/"
        },
        "id": "PmJCWrH_0_Jt",
        "outputId": "9a8f3d93-2945-4e02-85e7-38ca7e947bbe"
      },
      "execution_count": null,
      "outputs": [
        {
          "output_type": "stream",
          "name": "stdout",
          "text": [
            "* *\n",
            "* *\n"
          ]
        }
      ]
    },
    {
      "cell_type": "markdown",
      "source": [
        "### Date Time Programs"
      ],
      "metadata": {
        "id": "Mj1wc9LN3Dlf"
      }
    },
    {
      "cell_type": "markdown",
      "source": [
        "## Question 1"
      ],
      "metadata": {
        "id": "INLIGXqU3GOB"
      }
    },
    {
      "cell_type": "code",
      "source": [
        "from datetime import datetime, timedelta\n",
        "today = datetime.now()\n",
        "yesterday = datetime.now() -timedelta(1)\n",
        "print(\"yesterday\",yesterday)\n",
        "print(\"Tomorrow date \", datetime.now()+timedelta(1))"
      ],
      "metadata": {
        "colab": {
          "base_uri": "https://localhost:8080/"
        },
        "id": "GIwK-Uo62Db4",
        "outputId": "92485b1b-6748-4faf-9212-e31e20ef39e5"
      },
      "execution_count": null,
      "outputs": [
        {
          "output_type": "stream",
          "name": "stdout",
          "text": [
            "yesterday 2023-07-23 07:47:56.401755\n",
            "Tomorrow date  2023-07-25 07:47:56.403397\n"
          ]
        }
      ]
    },
    {
      "cell_type": "markdown",
      "source": [
        "## Question 2"
      ],
      "metadata": {
        "id": "lMQ6A6XO3pjp"
      }
    },
    {
      "cell_type": "code",
      "source": [
        "import datetime\n",
        "string = \"20/01/2020\"\n",
        "date_time = datetime.datetime.strptime(string,\"%d/%m/%Y\")\n",
        "print(type(date_time))"
      ],
      "metadata": {
        "colab": {
          "base_uri": "https://localhost:8080/"
        },
        "id": "kCdyy1iH3bkj",
        "outputId": "4aadeb72-8ea8-481a-9fbe-588debbd23e3"
      },
      "execution_count": null,
      "outputs": [
        {
          "output_type": "stream",
          "name": "stdout",
          "text": [
            "<class 'datetime.datetime'>\n"
          ]
        }
      ]
    },
    {
      "cell_type": "markdown",
      "source": [
        "## Question 2"
      ],
      "metadata": {
        "id": "y65mwN1j4h2j"
      }
    },
    {
      "cell_type": "code",
      "source": [
        "from datetime import datetime\n",
        "timestamp = 1545730073\n",
        "dt_obj = datetime.fromtimestamp(1140825600)\n",
        "\n",
        "print(dt_obj)"
      ],
      "metadata": {
        "colab": {
          "base_uri": "https://localhost:8080/"
        },
        "id": "lGT3BG1E4OYu",
        "outputId": "7e49adc1-242c-4a16-f3d4-c085453eaa03"
      },
      "execution_count": null,
      "outputs": [
        {
          "output_type": "stream",
          "name": "stdout",
          "text": [
            "2006-02-25 00:00:00\n"
          ]
        }
      ]
    },
    {
      "cell_type": "markdown",
      "source": [
        "### More Python Problems"
      ],
      "metadata": {
        "id": "tIGGmhFb5gox"
      }
    },
    {
      "cell_type": "markdown",
      "source": [
        "## Question 1"
      ],
      "metadata": {
        "id": "OigY1l1F5inA"
      }
    },
    {
      "cell_type": "code",
      "source": [
        "import math\n",
        "\n",
        "def maxPrimeFactors(n):\n",
        "    maxPrime = -1\n",
        "\n",
        "    # Print the number of 2s that divide n\n",
        "    while n % 2 == 0:\n",
        "        maxPrime = 2\n",
        "        n/=2\n",
        "\n",
        "\n",
        "    for i in range(3, int(math.sqrt(n)) + 1, 2):\n",
        "        while n % i == 0:\n",
        "            maxPrime = i\n",
        "            n = n / i\n",
        "\n",
        "    if n > 2:\n",
        "        maxPrime = n\n",
        "\n",
        "    return int(maxPrime)\n",
        "\n",
        "n = 15\n",
        "print(maxPrimeFactors(n))\n",
        "n = 25698751364526\n",
        "print(maxPrimeFactors(n))"
      ],
      "metadata": {
        "colab": {
          "base_uri": "https://localhost:8080/"
        },
        "id": "T5VAG8n05EHv",
        "outputId": "c4f0a1f7-5e47-439d-f1d4-7c6cbc7205c8"
      },
      "execution_count": null,
      "outputs": [
        {
          "output_type": "stream",
          "name": "stdout",
          "text": [
            "5\n",
            "328513\n"
          ]
        }
      ]
    },
    {
      "cell_type": "code",
      "source": [],
      "metadata": {
        "id": "NrUYI_T-6DW0"
      },
      "execution_count": null,
      "outputs": []
    }
  ]
}